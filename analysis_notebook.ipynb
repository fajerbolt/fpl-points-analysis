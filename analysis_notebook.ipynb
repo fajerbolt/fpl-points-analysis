{
 "cells": [
  {
   "cell_type": "markdown",
   "metadata": {},
   "source": [
    "# Sources of Fantasy Premier League Points "
   ]
  },
  {
   "cell_type": "markdown",
   "metadata": {},
   "source": [
    "#### Analysing from which stats did players earned most points for Fantasy Premier League during the 2023-24 season"
   ]
  },
  {
   "cell_type": "markdown",
   "metadata": {},
   "source": [
    "Focus of this analysis is to determine which stats brought the most points during the 2023-24 season of Fantasy Premier League, in order to give guidelines for building teams in the future. \n",
    "\n",
    "Fantasy Premier Leagues is a fantasy sports game centered around the English Premier League. It allows users tu build teams, consisting of real Premier League players, whose then earn points by achieving various statistical outcomes. Some rules that are important for understanding this analysis are:\n",
    "1. The goal is to acumulate most points over the course of a season\n",
    "2. Your team needs to have 2 goalkeepers, 5 defenders, 5 midfielders and 3 attackers\n",
    "3. Only 11 player's points in a team can count for any given gameweek\n",
    "4. You have a budget of 100 to build the team\n",
    "5. Each player is given a price according to an estimation of his performance\n",
    "6. Different stats are valued differently\n",
    "For a detailed list of rules you can visit: https://fantasy.premierleague.com/help/rules\n",
    "\n",
    "From the above mentioned rules it's easy to notice that when building a team a user has to make sure he picks players that will bring in most points, but also manage the budget and determine where he can spend or save. So, this analysis focuses on two main points that should help when constructing a team:\n",
    "1. Determine which stats earn most points during the season for each position\n",
    "2. Determine if it's worth spending the budget on more expensive players and in which situations\n",
    "\n",
    "This notebook contains some data manipulation of the processed data gathered from: https://github.com/vaastav/Fantasy-Premier-League/blob/master/data/2023-24/cleaned_players.csv\n",
    "The analysis to achieve the two mentioned goals can be found after the data is prepared."
   ]
  },
  {
   "cell_type": "markdown",
   "metadata": {},
   "source": [
    "### 0. Importing libraries and data"
   ]
  },
  {
   "cell_type": "code",
   "execution_count": 38,
   "metadata": {},
   "outputs": [],
   "source": [
    "#Importing data manipulation and visualisation libraries\n",
    "\n",
    "import pandas as pd\n",
    "import numpy as np\n",
    "\n",
    "from plotly.subplots import make_subplots\n",
    "import plotly.graph_objects as go\n",
    "import plotly.express as px"
   ]
  },
  {
   "cell_type": "code",
   "execution_count": 2,
   "metadata": {},
   "outputs": [],
   "source": [
    "#Importing data\n",
    "all_players = pd.read_csv('player_points.csv')"
   ]
  },
  {
   "cell_type": "markdown",
   "metadata": {},
   "source": [
    "### 1. Preprocessing data"
   ]
  },
  {
   "cell_type": "markdown",
   "metadata": {},
   "source": [
    "In the following 2 cells player data is first split by player positions, and top 10% and the rest of the players are also separated for each of the positions. This will help with the analysis later. Finally, the percentage of total points for each of the stats is calculated for both top and bottom players."
   ]
  },
  {
   "cell_type": "code",
   "execution_count": 3,
   "metadata": {},
   "outputs": [],
   "source": [
    "#Split players by position\n",
    "goalkeepers = all_players[all_players['element_type']=='GK']\n",
    "defenders = all_players[all_players['element_type']=='DEF']\n",
    "midfielders = all_players[all_players['element_type']=='MID']\n",
    "forwards = all_players[all_players['element_type']=='FWD']\n",
    "\n",
    "#Find number of players in top 10% for each position\n",
    "num_top_goalkeepers = len(goalkeepers)//10\n",
    "num_top_defenders = len(defenders)//10\n",
    "num_top_midfielders = len(midfielders)//10\n",
    "num_top_forwards = len(forwards)//10\n",
    "\n",
    "#Separate top 10% of players for each position\n",
    "top_goalkeepers = goalkeepers.sort_values(by='total_points', ascending=False).iloc[:num_top_goalkeepers]\n",
    "top_defenders = defenders.sort_values(by='total_points', ascending=False).iloc[:num_top_defenders]\n",
    "top_midfielders = midfielders.sort_values(by='total_points', ascending=False).iloc[:num_top_midfielders]\n",
    "top_forwards = forwards.sort_values(by='total_points', ascending=False).iloc[:num_top_forwards]\n",
    "\n",
    "#Separate bottom 90% of players for each position\n",
    "rest_goalkeepers = goalkeepers.sort_values(by='total_points', ascending=False).iloc[num_top_goalkeepers:]\n",
    "rest_defenders = defenders.sort_values(by='total_points', ascending=False).iloc[num_top_defenders:]\n",
    "rest_midfielders = midfielders.sort_values(by='total_points', ascending=False).iloc[num_top_midfielders:]\n",
    "rest_forwards = forwards.sort_values(by='total_points', ascending=False).iloc[num_top_forwards:]"
   ]
  },
  {
   "cell_type": "code",
   "execution_count": 4,
   "metadata": {},
   "outputs": [],
   "source": [
    "#Calculate percentage of total points from each stat by position for top and bottom players\n",
    "stats_columns = all_players.columns[4:]\n",
    "\n",
    "def points_percent(dataframe, stats_columns=stats_columns, total_column='total_points'):\n",
    "    percents = dataframe[stats_columns].sum().div(dataframe[total_column].sum(), axis=0)*100\n",
    "    percents.index=['Minutes', 'Bonus', 'Goals Scored', 'Assists', 'Penalty Misses', 'Own Goals', 'Goals Conceded', 'Saves', 'Penalty Saves', 'Clean Sheets', 'Yellow Cards', 'Red Cards']\n",
    "\n",
    "    return percents\n",
    "\n",
    "#Apply percentage calculation function and sort by absolute value of percentage\n",
    "top_gk_percent = points_percent(top_goalkeepers).sort_values(ascending=False, key=abs)\n",
    "rest_gk_percent = points_percent(rest_goalkeepers).sort_values(ascending=False, key=abs)\n",
    "\n",
    "top_def_percent = points_percent(top_defenders).sort_values(ascending=False, key=abs)\n",
    "rest_def_percent = points_percent(rest_defenders).sort_values(ascending=False, key=abs)\n",
    "\n",
    "top_mid_percent = points_percent(top_midfielders).sort_values(ascending=False, key=abs)\n",
    "rest_mid_percent = points_percent(rest_midfielders).sort_values(ascending=False, key=abs)\n",
    "\n",
    "top_fwd_percent = points_percent(top_forwards).sort_values(ascending=False, key=abs)\n",
    "rest_fwd_percent = points_percent(rest_forwards).sort_values(ascending=False, key=abs)"
   ]
  },
  {
   "cell_type": "markdown",
   "metadata": {},
   "source": [
    "### 2. Most valuable stats by position"
   ]
  },
  {
   "cell_type": "markdown",
   "metadata": {},
   "source": [
    "Since some stast are worth more and some less points, it's useful to know which stats acutally bring more points over the course of the season. At first glance, it would make sense that those are the stats that are valued more, but they might not happen often enough to truly bring more points than stats that are worth less points, but maybe happen more often during the course of a season.\n",
    "\n",
    "As there are stats that bring different number of points depending on the position of the player who achieves them, the analysis will be done for each position separately.\n",
    "\n",
    "In order to find most important stats, they will be compared between top 10% of players in each position and the rest of the players in the same position. This method shows what actually distinguishes the top players that should be picked, or in other words, which stats bring them the points that separate them from the rest.\n",
    "\n",
    "Looking at the grouped bar charts for each of the positions should easily show the differences. The bar charts will show percentage of total points that top and rest of the players earned from each of the stats."
   ]
  },
  {
   "cell_type": "markdown",
   "metadata": {},
   "source": [
    "#### 2.1 Goalkeepers"
   ]
  },
  {
   "cell_type": "code",
   "execution_count": 6,
   "metadata": {},
   "outputs": [
    {
     "data": {
      "application/vnd.plotly.v1+json": {
       "config": {
        "plotlyServerURL": "https://plot.ly"
       },
       "data": [
        {
         "marker": {
          "color": "blue"
         },
         "name": "Top GKs",
         "text": [
          56.1,
          29.7,
          20,
          -14,
          9.9,
          -2.8,
          1.6,
          -0.8,
          0.2,
          0,
          0,
          0
         ],
         "type": "bar",
         "x": [
          "Minutes",
          "Clean Sheets",
          "Saves",
          "Goals Conceeded",
          "Bonus",
          "Yellow Cards",
          "Penalty Saves",
          "Own Goals",
          "Assists",
          "Goals Scored",
          "Penalty Misses",
          "Red Cards"
         ],
         "y": [
          56.1389337641357,
          29.72536348949919,
          19.951534733441033,
          -13.974151857835219,
          9.935379644588044,
          -2.827140549273021,
          1.615508885298869,
          -0.8077544426494345,
          0.24232633279483037,
          0,
          0,
          0
         ]
        },
        {
         "marker": {
          "color": "red"
         },
         "name": "Rest of GKs",
         "text": [
          67.3,
          26.4,
          -21.3,
          21,
          7.6,
          -2.2,
          1.6,
          -0.6,
          0.2,
          0,
          0,
          0
         ],
         "type": "bar",
         "x": [
          "Minutes",
          "Saves",
          "Goals Conceeded",
          "Clean Sheets",
          "Bonus",
          "Yellow Cards",
          "Penalty Saves",
          "Own Goals",
          "Assists",
          "Goals Scored",
          "Penalty Misses",
          "Red Cards"
         ],
         "y": [
          67.2859450726979,
          26.413570274636513,
          -21.32471728594507,
          21.001615508885298,
          7.592891760904685,
          -2.1809369951534734,
          1.615508885298869,
          -0.6462035541195477,
          0.24232633279483037,
          0,
          0,
          0
         ]
        }
       ],
       "layout": {
        "barmode": "group",
        "legend": {
         "orientation": "h",
         "y": 10,
         "yanchor": "top"
        },
        "template": {
         "data": {
          "bar": [
           {
            "error_x": {
             "color": "#2a3f5f"
            },
            "error_y": {
             "color": "#2a3f5f"
            },
            "marker": {
             "line": {
              "color": "white",
              "width": 0.5
             },
             "pattern": {
              "fillmode": "overlay",
              "size": 10,
              "solidity": 0.2
             }
            },
            "type": "bar"
           }
          ],
          "barpolar": [
           {
            "marker": {
             "line": {
              "color": "white",
              "width": 0.5
             },
             "pattern": {
              "fillmode": "overlay",
              "size": 10,
              "solidity": 0.2
             }
            },
            "type": "barpolar"
           }
          ],
          "carpet": [
           {
            "aaxis": {
             "endlinecolor": "#2a3f5f",
             "gridcolor": "#C8D4E3",
             "linecolor": "#C8D4E3",
             "minorgridcolor": "#C8D4E3",
             "startlinecolor": "#2a3f5f"
            },
            "baxis": {
             "endlinecolor": "#2a3f5f",
             "gridcolor": "#C8D4E3",
             "linecolor": "#C8D4E3",
             "minorgridcolor": "#C8D4E3",
             "startlinecolor": "#2a3f5f"
            },
            "type": "carpet"
           }
          ],
          "choropleth": [
           {
            "colorbar": {
             "outlinewidth": 0,
             "ticks": ""
            },
            "type": "choropleth"
           }
          ],
          "contour": [
           {
            "colorbar": {
             "outlinewidth": 0,
             "ticks": ""
            },
            "colorscale": [
             [
              0,
              "#0d0887"
             ],
             [
              0.1111111111111111,
              "#46039f"
             ],
             [
              0.2222222222222222,
              "#7201a8"
             ],
             [
              0.3333333333333333,
              "#9c179e"
             ],
             [
              0.4444444444444444,
              "#bd3786"
             ],
             [
              0.5555555555555556,
              "#d8576b"
             ],
             [
              0.6666666666666666,
              "#ed7953"
             ],
             [
              0.7777777777777778,
              "#fb9f3a"
             ],
             [
              0.8888888888888888,
              "#fdca26"
             ],
             [
              1,
              "#f0f921"
             ]
            ],
            "type": "contour"
           }
          ],
          "contourcarpet": [
           {
            "colorbar": {
             "outlinewidth": 0,
             "ticks": ""
            },
            "type": "contourcarpet"
           }
          ],
          "heatmap": [
           {
            "colorbar": {
             "outlinewidth": 0,
             "ticks": ""
            },
            "colorscale": [
             [
              0,
              "#0d0887"
             ],
             [
              0.1111111111111111,
              "#46039f"
             ],
             [
              0.2222222222222222,
              "#7201a8"
             ],
             [
              0.3333333333333333,
              "#9c179e"
             ],
             [
              0.4444444444444444,
              "#bd3786"
             ],
             [
              0.5555555555555556,
              "#d8576b"
             ],
             [
              0.6666666666666666,
              "#ed7953"
             ],
             [
              0.7777777777777778,
              "#fb9f3a"
             ],
             [
              0.8888888888888888,
              "#fdca26"
             ],
             [
              1,
              "#f0f921"
             ]
            ],
            "type": "heatmap"
           }
          ],
          "heatmapgl": [
           {
            "colorbar": {
             "outlinewidth": 0,
             "ticks": ""
            },
            "colorscale": [
             [
              0,
              "#0d0887"
             ],
             [
              0.1111111111111111,
              "#46039f"
             ],
             [
              0.2222222222222222,
              "#7201a8"
             ],
             [
              0.3333333333333333,
              "#9c179e"
             ],
             [
              0.4444444444444444,
              "#bd3786"
             ],
             [
              0.5555555555555556,
              "#d8576b"
             ],
             [
              0.6666666666666666,
              "#ed7953"
             ],
             [
              0.7777777777777778,
              "#fb9f3a"
             ],
             [
              0.8888888888888888,
              "#fdca26"
             ],
             [
              1,
              "#f0f921"
             ]
            ],
            "type": "heatmapgl"
           }
          ],
          "histogram": [
           {
            "marker": {
             "pattern": {
              "fillmode": "overlay",
              "size": 10,
              "solidity": 0.2
             }
            },
            "type": "histogram"
           }
          ],
          "histogram2d": [
           {
            "colorbar": {
             "outlinewidth": 0,
             "ticks": ""
            },
            "colorscale": [
             [
              0,
              "#0d0887"
             ],
             [
              0.1111111111111111,
              "#46039f"
             ],
             [
              0.2222222222222222,
              "#7201a8"
             ],
             [
              0.3333333333333333,
              "#9c179e"
             ],
             [
              0.4444444444444444,
              "#bd3786"
             ],
             [
              0.5555555555555556,
              "#d8576b"
             ],
             [
              0.6666666666666666,
              "#ed7953"
             ],
             [
              0.7777777777777778,
              "#fb9f3a"
             ],
             [
              0.8888888888888888,
              "#fdca26"
             ],
             [
              1,
              "#f0f921"
             ]
            ],
            "type": "histogram2d"
           }
          ],
          "histogram2dcontour": [
           {
            "colorbar": {
             "outlinewidth": 0,
             "ticks": ""
            },
            "colorscale": [
             [
              0,
              "#0d0887"
             ],
             [
              0.1111111111111111,
              "#46039f"
             ],
             [
              0.2222222222222222,
              "#7201a8"
             ],
             [
              0.3333333333333333,
              "#9c179e"
             ],
             [
              0.4444444444444444,
              "#bd3786"
             ],
             [
              0.5555555555555556,
              "#d8576b"
             ],
             [
              0.6666666666666666,
              "#ed7953"
             ],
             [
              0.7777777777777778,
              "#fb9f3a"
             ],
             [
              0.8888888888888888,
              "#fdca26"
             ],
             [
              1,
              "#f0f921"
             ]
            ],
            "type": "histogram2dcontour"
           }
          ],
          "mesh3d": [
           {
            "colorbar": {
             "outlinewidth": 0,
             "ticks": ""
            },
            "type": "mesh3d"
           }
          ],
          "parcoords": [
           {
            "line": {
             "colorbar": {
              "outlinewidth": 0,
              "ticks": ""
             }
            },
            "type": "parcoords"
           }
          ],
          "pie": [
           {
            "automargin": true,
            "type": "pie"
           }
          ],
          "scatter": [
           {
            "fillpattern": {
             "fillmode": "overlay",
             "size": 10,
             "solidity": 0.2
            },
            "type": "scatter"
           }
          ],
          "scatter3d": [
           {
            "line": {
             "colorbar": {
              "outlinewidth": 0,
              "ticks": ""
             }
            },
            "marker": {
             "colorbar": {
              "outlinewidth": 0,
              "ticks": ""
             }
            },
            "type": "scatter3d"
           }
          ],
          "scattercarpet": [
           {
            "marker": {
             "colorbar": {
              "outlinewidth": 0,
              "ticks": ""
             }
            },
            "type": "scattercarpet"
           }
          ],
          "scattergeo": [
           {
            "marker": {
             "colorbar": {
              "outlinewidth": 0,
              "ticks": ""
             }
            },
            "type": "scattergeo"
           }
          ],
          "scattergl": [
           {
            "marker": {
             "colorbar": {
              "outlinewidth": 0,
              "ticks": ""
             }
            },
            "type": "scattergl"
           }
          ],
          "scattermapbox": [
           {
            "marker": {
             "colorbar": {
              "outlinewidth": 0,
              "ticks": ""
             }
            },
            "type": "scattermapbox"
           }
          ],
          "scatterpolar": [
           {
            "marker": {
             "colorbar": {
              "outlinewidth": 0,
              "ticks": ""
             }
            },
            "type": "scatterpolar"
           }
          ],
          "scatterpolargl": [
           {
            "marker": {
             "colorbar": {
              "outlinewidth": 0,
              "ticks": ""
             }
            },
            "type": "scatterpolargl"
           }
          ],
          "scatterternary": [
           {
            "marker": {
             "colorbar": {
              "outlinewidth": 0,
              "ticks": ""
             }
            },
            "type": "scatterternary"
           }
          ],
          "surface": [
           {
            "colorbar": {
             "outlinewidth": 0,
             "ticks": ""
            },
            "colorscale": [
             [
              0,
              "#0d0887"
             ],
             [
              0.1111111111111111,
              "#46039f"
             ],
             [
              0.2222222222222222,
              "#7201a8"
             ],
             [
              0.3333333333333333,
              "#9c179e"
             ],
             [
              0.4444444444444444,
              "#bd3786"
             ],
             [
              0.5555555555555556,
              "#d8576b"
             ],
             [
              0.6666666666666666,
              "#ed7953"
             ],
             [
              0.7777777777777778,
              "#fb9f3a"
             ],
             [
              0.8888888888888888,
              "#fdca26"
             ],
             [
              1,
              "#f0f921"
             ]
            ],
            "type": "surface"
           }
          ],
          "table": [
           {
            "cells": {
             "fill": {
              "color": "#EBF0F8"
             },
             "line": {
              "color": "white"
             }
            },
            "header": {
             "fill": {
              "color": "#C8D4E3"
             },
             "line": {
              "color": "white"
             }
            },
            "type": "table"
           }
          ]
         },
         "layout": {
          "annotationdefaults": {
           "arrowcolor": "#2a3f5f",
           "arrowhead": 0,
           "arrowwidth": 1
          },
          "autotypenumbers": "strict",
          "coloraxis": {
           "colorbar": {
            "outlinewidth": 0,
            "ticks": ""
           }
          },
          "colorscale": {
           "diverging": [
            [
             0,
             "#8e0152"
            ],
            [
             0.1,
             "#c51b7d"
            ],
            [
             0.2,
             "#de77ae"
            ],
            [
             0.3,
             "#f1b6da"
            ],
            [
             0.4,
             "#fde0ef"
            ],
            [
             0.5,
             "#f7f7f7"
            ],
            [
             0.6,
             "#e6f5d0"
            ],
            [
             0.7,
             "#b8e186"
            ],
            [
             0.8,
             "#7fbc41"
            ],
            [
             0.9,
             "#4d9221"
            ],
            [
             1,
             "#276419"
            ]
           ],
           "sequential": [
            [
             0,
             "#0d0887"
            ],
            [
             0.1111111111111111,
             "#46039f"
            ],
            [
             0.2222222222222222,
             "#7201a8"
            ],
            [
             0.3333333333333333,
             "#9c179e"
            ],
            [
             0.4444444444444444,
             "#bd3786"
            ],
            [
             0.5555555555555556,
             "#d8576b"
            ],
            [
             0.6666666666666666,
             "#ed7953"
            ],
            [
             0.7777777777777778,
             "#fb9f3a"
            ],
            [
             0.8888888888888888,
             "#fdca26"
            ],
            [
             1,
             "#f0f921"
            ]
           ],
           "sequentialminus": [
            [
             0,
             "#0d0887"
            ],
            [
             0.1111111111111111,
             "#46039f"
            ],
            [
             0.2222222222222222,
             "#7201a8"
            ],
            [
             0.3333333333333333,
             "#9c179e"
            ],
            [
             0.4444444444444444,
             "#bd3786"
            ],
            [
             0.5555555555555556,
             "#d8576b"
            ],
            [
             0.6666666666666666,
             "#ed7953"
            ],
            [
             0.7777777777777778,
             "#fb9f3a"
            ],
            [
             0.8888888888888888,
             "#fdca26"
            ],
            [
             1,
             "#f0f921"
            ]
           ]
          },
          "colorway": [
           "#636efa",
           "#EF553B",
           "#00cc96",
           "#ab63fa",
           "#FFA15A",
           "#19d3f3",
           "#FF6692",
           "#B6E880",
           "#FF97FF",
           "#FECB52"
          ],
          "font": {
           "color": "#2a3f5f"
          },
          "geo": {
           "bgcolor": "white",
           "lakecolor": "white",
           "landcolor": "white",
           "showlakes": true,
           "showland": true,
           "subunitcolor": "#C8D4E3"
          },
          "hoverlabel": {
           "align": "left"
          },
          "hovermode": "closest",
          "mapbox": {
           "style": "light"
          },
          "paper_bgcolor": "white",
          "plot_bgcolor": "white",
          "polar": {
           "angularaxis": {
            "gridcolor": "#EBF0F8",
            "linecolor": "#EBF0F8",
            "ticks": ""
           },
           "bgcolor": "white",
           "radialaxis": {
            "gridcolor": "#EBF0F8",
            "linecolor": "#EBF0F8",
            "ticks": ""
           }
          },
          "scene": {
           "xaxis": {
            "backgroundcolor": "white",
            "gridcolor": "#DFE8F3",
            "gridwidth": 2,
            "linecolor": "#EBF0F8",
            "showbackground": true,
            "ticks": "",
            "zerolinecolor": "#EBF0F8"
           },
           "yaxis": {
            "backgroundcolor": "white",
            "gridcolor": "#DFE8F3",
            "gridwidth": 2,
            "linecolor": "#EBF0F8",
            "showbackground": true,
            "ticks": "",
            "zerolinecolor": "#EBF0F8"
           },
           "zaxis": {
            "backgroundcolor": "white",
            "gridcolor": "#DFE8F3",
            "gridwidth": 2,
            "linecolor": "#EBF0F8",
            "showbackground": true,
            "ticks": "",
            "zerolinecolor": "#EBF0F8"
           }
          },
          "shapedefaults": {
           "line": {
            "color": "#2a3f5f"
           }
          },
          "ternary": {
           "aaxis": {
            "gridcolor": "#DFE8F3",
            "linecolor": "#A2B1C6",
            "ticks": ""
           },
           "baxis": {
            "gridcolor": "#DFE8F3",
            "linecolor": "#A2B1C6",
            "ticks": ""
           },
           "bgcolor": "white",
           "caxis": {
            "gridcolor": "#DFE8F3",
            "linecolor": "#A2B1C6",
            "ticks": ""
           }
          },
          "title": {
           "x": 0.05
          },
          "xaxis": {
           "automargin": true,
           "gridcolor": "#EBF0F8",
           "linecolor": "#EBF0F8",
           "ticks": "",
           "title": {
            "standoff": 15
           },
           "zerolinecolor": "#EBF0F8",
           "zerolinewidth": 2
          },
          "yaxis": {
           "automargin": true,
           "gridcolor": "#EBF0F8",
           "linecolor": "#EBF0F8",
           "ticks": "",
           "title": {
            "standoff": 15
           },
           "zerolinecolor": "#EBF0F8",
           "zerolinewidth": 2
          }
         }
        },
        "title": {
         "text": "Goalkeepers Points Breakdown Comparison"
        },
        "xaxis": {
         "title": {
          "text": "Stats"
         }
        },
        "yaxis": {
         "title": {
          "text": "Percent of Points"
         }
        }
       }
      }
     },
     "metadata": {},
     "output_type": "display_data"
    }
   ],
   "source": [
    "trace1 = go.Bar(\n",
    "    x=top_gk_percent.index,\n",
    "    y=top_gk_percent.values,\n",
    "    name='Top GKs',\n",
    "    marker_color='blue',\n",
    "    text=top_gk_percent.values.round(1)\n",
    ")\n",
    "\n",
    "trace2 = go.Bar(\n",
    "    x=rest_gk_percent.index,\n",
    "    y=rest_gk_percent.values,\n",
    "    name='Rest of GKs',\n",
    "    marker_color='red',\n",
    "    text=rest_gk_percent.values.round(1)\n",
    ")\n",
    "\n",
    "fig = go.Figure(data=[trace1, trace2])\n",
    "\n",
    "fig.update_layout(\n",
    "    barmode='group',\n",
    "    title_text='Goalkeepers Points Breakdown Comparison',\n",
    "    xaxis_title='Stats',\n",
    "    yaxis_title='Percent of Points',\n",
    "    legend={'orientation': 'h', 'yanchor': 'top', 'y': 10},\n",
    "    template='plotly_white'\n",
    ")\n",
    "\n",
    "fig.show()"
   ]
  },
  {
   "cell_type": "markdown",
   "metadata": {},
   "source": [
    "The chart above (as it will be for the rest of the positions) shows the percentage of total points that players earned from each of the stats. For example, top 10% of GKs got 29.7% of their total points from clean sheets, while the rest of the goalkeepers got 21% of their total points from clean sheets. \n",
    "\n",
    "It's expected that top goalkeepers have a much smaller percentage of points that come from minutes played, since the other stats are awarded with more points.\n",
    "\n",
    "What's interesting is that top goalkeepers earn higher percentage from clean sheets than the rest, while also getting smaller percentage of points from saves than the rest. This points to the fact that the clean sheets are what separates the top goalkeepers, saves are just an added bonus, but not something to focus on. Medians of points from saves and clean sheets for 10% of goalkeepers and next 10% can help confirm this conclusion."
   ]
  },
  {
   "cell_type": "code",
   "execution_count": 106,
   "metadata": {},
   "outputs": [
    {
     "name": "stdout",
     "output_type": "stream",
     "text": [
      "Top 10% goalkeepers saves points median: 27.0\n",
      "Next 10% goalkeepers saves points median: 20.5\n",
      "\n",
      "Top 10% goalkeepers clean sheet points median: 34.0\n",
      "Next 10% goalkeepers clean sheet points median: 16.0\n"
     ]
    }
   ],
   "source": [
    "print('Top 10% goalkeepers saves points median: ' + str(top_goalkeepers.saves_points.median()))\n",
    "print('Next 10% goalkeepers saves points median: ' + str(rest_goalkeepers.head(num_top_goalkeepers).saves_points.median()))\n",
    "print('')\n",
    "print('Top 10% goalkeepers clean sheet points median: ' + str(top_goalkeepers.clean_sheet_points.median()))\n",
    "print('Next 10% goalkeepers clean sheet points median: ' + str(rest_goalkeepers.head(num_top_goalkeepers).clean_sheet_points.median()))"
   ]
  },
  {
   "cell_type": "markdown",
   "metadata": {},
   "source": [
    "The medians confirm that the main difference comes from clean sheets, and saves are just an added bonus. But, since saves can help achieve clean sheets, it would be useful to check if this slightly higher number of saves for top goalkeepers is what actually alows them to get more clean sheets."
   ]
  },
  {
   "cell_type": "code",
   "execution_count": 107,
   "metadata": {},
   "outputs": [
    {
     "data": {
      "application/vnd.plotly.v1+json": {
       "config": {
        "plotlyServerURL": "https://plot.ly"
       },
       "data": [
        {
         "hovertemplate": "Points from Saves=%{x}<br>Points from Clean Sheets=%{y}<br>Total Points=%{marker.color}<extra></extra>",
         "legendgroup": "",
         "marker": {
          "color": [
           153,
           135,
           133,
           133,
           119,
           116,
           115,
           112,
           112,
           110
          ],
          "coloraxis": "coloraxis",
          "symbol": "circle"
         },
         "mode": "markers",
         "name": "",
         "orientation": "v",
         "showlegend": false,
         "type": "scatter",
         "x": [
          29,
          5,
          29,
          37,
          29,
          39,
          20,
          24,
          10,
          25
         ],
         "xaxis": "x",
         "y": [
          52,
          64,
          40,
          36,
          28,
          16,
          32,
          28,
          44,
          28
         ],
         "yaxis": "y"
        }
       ],
       "layout": {
        "coloraxis": {
         "colorbar": {
          "title": {
           "text": "Total Points"
          }
         },
         "colorscale": [
          [
           0,
           "#0d0887"
          ],
          [
           0.1111111111111111,
           "#46039f"
          ],
          [
           0.2222222222222222,
           "#7201a8"
          ],
          [
           0.3333333333333333,
           "#9c179e"
          ],
          [
           0.4444444444444444,
           "#bd3786"
          ],
          [
           0.5555555555555556,
           "#d8576b"
          ],
          [
           0.6666666666666666,
           "#ed7953"
          ],
          [
           0.7777777777777778,
           "#fb9f3a"
          ],
          [
           0.8888888888888888,
           "#fdca26"
          ],
          [
           1,
           "#f0f921"
          ]
         ]
        },
        "legend": {
         "tracegroupgap": 0
        },
        "template": {
         "data": {
          "bar": [
           {
            "error_x": {
             "color": "#2a3f5f"
            },
            "error_y": {
             "color": "#2a3f5f"
            },
            "marker": {
             "line": {
              "color": "white",
              "width": 0.5
             },
             "pattern": {
              "fillmode": "overlay",
              "size": 10,
              "solidity": 0.2
             }
            },
            "type": "bar"
           }
          ],
          "barpolar": [
           {
            "marker": {
             "line": {
              "color": "white",
              "width": 0.5
             },
             "pattern": {
              "fillmode": "overlay",
              "size": 10,
              "solidity": 0.2
             }
            },
            "type": "barpolar"
           }
          ],
          "carpet": [
           {
            "aaxis": {
             "endlinecolor": "#2a3f5f",
             "gridcolor": "#C8D4E3",
             "linecolor": "#C8D4E3",
             "minorgridcolor": "#C8D4E3",
             "startlinecolor": "#2a3f5f"
            },
            "baxis": {
             "endlinecolor": "#2a3f5f",
             "gridcolor": "#C8D4E3",
             "linecolor": "#C8D4E3",
             "minorgridcolor": "#C8D4E3",
             "startlinecolor": "#2a3f5f"
            },
            "type": "carpet"
           }
          ],
          "choropleth": [
           {
            "colorbar": {
             "outlinewidth": 0,
             "ticks": ""
            },
            "type": "choropleth"
           }
          ],
          "contour": [
           {
            "colorbar": {
             "outlinewidth": 0,
             "ticks": ""
            },
            "colorscale": [
             [
              0,
              "#0d0887"
             ],
             [
              0.1111111111111111,
              "#46039f"
             ],
             [
              0.2222222222222222,
              "#7201a8"
             ],
             [
              0.3333333333333333,
              "#9c179e"
             ],
             [
              0.4444444444444444,
              "#bd3786"
             ],
             [
              0.5555555555555556,
              "#d8576b"
             ],
             [
              0.6666666666666666,
              "#ed7953"
             ],
             [
              0.7777777777777778,
              "#fb9f3a"
             ],
             [
              0.8888888888888888,
              "#fdca26"
             ],
             [
              1,
              "#f0f921"
             ]
            ],
            "type": "contour"
           }
          ],
          "contourcarpet": [
           {
            "colorbar": {
             "outlinewidth": 0,
             "ticks": ""
            },
            "type": "contourcarpet"
           }
          ],
          "heatmap": [
           {
            "colorbar": {
             "outlinewidth": 0,
             "ticks": ""
            },
            "colorscale": [
             [
              0,
              "#0d0887"
             ],
             [
              0.1111111111111111,
              "#46039f"
             ],
             [
              0.2222222222222222,
              "#7201a8"
             ],
             [
              0.3333333333333333,
              "#9c179e"
             ],
             [
              0.4444444444444444,
              "#bd3786"
             ],
             [
              0.5555555555555556,
              "#d8576b"
             ],
             [
              0.6666666666666666,
              "#ed7953"
             ],
             [
              0.7777777777777778,
              "#fb9f3a"
             ],
             [
              0.8888888888888888,
              "#fdca26"
             ],
             [
              1,
              "#f0f921"
             ]
            ],
            "type": "heatmap"
           }
          ],
          "heatmapgl": [
           {
            "colorbar": {
             "outlinewidth": 0,
             "ticks": ""
            },
            "colorscale": [
             [
              0,
              "#0d0887"
             ],
             [
              0.1111111111111111,
              "#46039f"
             ],
             [
              0.2222222222222222,
              "#7201a8"
             ],
             [
              0.3333333333333333,
              "#9c179e"
             ],
             [
              0.4444444444444444,
              "#bd3786"
             ],
             [
              0.5555555555555556,
              "#d8576b"
             ],
             [
              0.6666666666666666,
              "#ed7953"
             ],
             [
              0.7777777777777778,
              "#fb9f3a"
             ],
             [
              0.8888888888888888,
              "#fdca26"
             ],
             [
              1,
              "#f0f921"
             ]
            ],
            "type": "heatmapgl"
           }
          ],
          "histogram": [
           {
            "marker": {
             "pattern": {
              "fillmode": "overlay",
              "size": 10,
              "solidity": 0.2
             }
            },
            "type": "histogram"
           }
          ],
          "histogram2d": [
           {
            "colorbar": {
             "outlinewidth": 0,
             "ticks": ""
            },
            "colorscale": [
             [
              0,
              "#0d0887"
             ],
             [
              0.1111111111111111,
              "#46039f"
             ],
             [
              0.2222222222222222,
              "#7201a8"
             ],
             [
              0.3333333333333333,
              "#9c179e"
             ],
             [
              0.4444444444444444,
              "#bd3786"
             ],
             [
              0.5555555555555556,
              "#d8576b"
             ],
             [
              0.6666666666666666,
              "#ed7953"
             ],
             [
              0.7777777777777778,
              "#fb9f3a"
             ],
             [
              0.8888888888888888,
              "#fdca26"
             ],
             [
              1,
              "#f0f921"
             ]
            ],
            "type": "histogram2d"
           }
          ],
          "histogram2dcontour": [
           {
            "colorbar": {
             "outlinewidth": 0,
             "ticks": ""
            },
            "colorscale": [
             [
              0,
              "#0d0887"
             ],
             [
              0.1111111111111111,
              "#46039f"
             ],
             [
              0.2222222222222222,
              "#7201a8"
             ],
             [
              0.3333333333333333,
              "#9c179e"
             ],
             [
              0.4444444444444444,
              "#bd3786"
             ],
             [
              0.5555555555555556,
              "#d8576b"
             ],
             [
              0.6666666666666666,
              "#ed7953"
             ],
             [
              0.7777777777777778,
              "#fb9f3a"
             ],
             [
              0.8888888888888888,
              "#fdca26"
             ],
             [
              1,
              "#f0f921"
             ]
            ],
            "type": "histogram2dcontour"
           }
          ],
          "mesh3d": [
           {
            "colorbar": {
             "outlinewidth": 0,
             "ticks": ""
            },
            "type": "mesh3d"
           }
          ],
          "parcoords": [
           {
            "line": {
             "colorbar": {
              "outlinewidth": 0,
              "ticks": ""
             }
            },
            "type": "parcoords"
           }
          ],
          "pie": [
           {
            "automargin": true,
            "type": "pie"
           }
          ],
          "scatter": [
           {
            "fillpattern": {
             "fillmode": "overlay",
             "size": 10,
             "solidity": 0.2
            },
            "type": "scatter"
           }
          ],
          "scatter3d": [
           {
            "line": {
             "colorbar": {
              "outlinewidth": 0,
              "ticks": ""
             }
            },
            "marker": {
             "colorbar": {
              "outlinewidth": 0,
              "ticks": ""
             }
            },
            "type": "scatter3d"
           }
          ],
          "scattercarpet": [
           {
            "marker": {
             "colorbar": {
              "outlinewidth": 0,
              "ticks": ""
             }
            },
            "type": "scattercarpet"
           }
          ],
          "scattergeo": [
           {
            "marker": {
             "colorbar": {
              "outlinewidth": 0,
              "ticks": ""
             }
            },
            "type": "scattergeo"
           }
          ],
          "scattergl": [
           {
            "marker": {
             "colorbar": {
              "outlinewidth": 0,
              "ticks": ""
             }
            },
            "type": "scattergl"
           }
          ],
          "scattermapbox": [
           {
            "marker": {
             "colorbar": {
              "outlinewidth": 0,
              "ticks": ""
             }
            },
            "type": "scattermapbox"
           }
          ],
          "scatterpolar": [
           {
            "marker": {
             "colorbar": {
              "outlinewidth": 0,
              "ticks": ""
             }
            },
            "type": "scatterpolar"
           }
          ],
          "scatterpolargl": [
           {
            "marker": {
             "colorbar": {
              "outlinewidth": 0,
              "ticks": ""
             }
            },
            "type": "scatterpolargl"
           }
          ],
          "scatterternary": [
           {
            "marker": {
             "colorbar": {
              "outlinewidth": 0,
              "ticks": ""
             }
            },
            "type": "scatterternary"
           }
          ],
          "surface": [
           {
            "colorbar": {
             "outlinewidth": 0,
             "ticks": ""
            },
            "colorscale": [
             [
              0,
              "#0d0887"
             ],
             [
              0.1111111111111111,
              "#46039f"
             ],
             [
              0.2222222222222222,
              "#7201a8"
             ],
             [
              0.3333333333333333,
              "#9c179e"
             ],
             [
              0.4444444444444444,
              "#bd3786"
             ],
             [
              0.5555555555555556,
              "#d8576b"
             ],
             [
              0.6666666666666666,
              "#ed7953"
             ],
             [
              0.7777777777777778,
              "#fb9f3a"
             ],
             [
              0.8888888888888888,
              "#fdca26"
             ],
             [
              1,
              "#f0f921"
             ]
            ],
            "type": "surface"
           }
          ],
          "table": [
           {
            "cells": {
             "fill": {
              "color": "#EBF0F8"
             },
             "line": {
              "color": "white"
             }
            },
            "header": {
             "fill": {
              "color": "#C8D4E3"
             },
             "line": {
              "color": "white"
             }
            },
            "type": "table"
           }
          ]
         },
         "layout": {
          "annotationdefaults": {
           "arrowcolor": "#2a3f5f",
           "arrowhead": 0,
           "arrowwidth": 1
          },
          "autotypenumbers": "strict",
          "coloraxis": {
           "colorbar": {
            "outlinewidth": 0,
            "ticks": ""
           }
          },
          "colorscale": {
           "diverging": [
            [
             0,
             "#8e0152"
            ],
            [
             0.1,
             "#c51b7d"
            ],
            [
             0.2,
             "#de77ae"
            ],
            [
             0.3,
             "#f1b6da"
            ],
            [
             0.4,
             "#fde0ef"
            ],
            [
             0.5,
             "#f7f7f7"
            ],
            [
             0.6,
             "#e6f5d0"
            ],
            [
             0.7,
             "#b8e186"
            ],
            [
             0.8,
             "#7fbc41"
            ],
            [
             0.9,
             "#4d9221"
            ],
            [
             1,
             "#276419"
            ]
           ],
           "sequential": [
            [
             0,
             "#0d0887"
            ],
            [
             0.1111111111111111,
             "#46039f"
            ],
            [
             0.2222222222222222,
             "#7201a8"
            ],
            [
             0.3333333333333333,
             "#9c179e"
            ],
            [
             0.4444444444444444,
             "#bd3786"
            ],
            [
             0.5555555555555556,
             "#d8576b"
            ],
            [
             0.6666666666666666,
             "#ed7953"
            ],
            [
             0.7777777777777778,
             "#fb9f3a"
            ],
            [
             0.8888888888888888,
             "#fdca26"
            ],
            [
             1,
             "#f0f921"
            ]
           ],
           "sequentialminus": [
            [
             0,
             "#0d0887"
            ],
            [
             0.1111111111111111,
             "#46039f"
            ],
            [
             0.2222222222222222,
             "#7201a8"
            ],
            [
             0.3333333333333333,
             "#9c179e"
            ],
            [
             0.4444444444444444,
             "#bd3786"
            ],
            [
             0.5555555555555556,
             "#d8576b"
            ],
            [
             0.6666666666666666,
             "#ed7953"
            ],
            [
             0.7777777777777778,
             "#fb9f3a"
            ],
            [
             0.8888888888888888,
             "#fdca26"
            ],
            [
             1,
             "#f0f921"
            ]
           ]
          },
          "colorway": [
           "#636efa",
           "#EF553B",
           "#00cc96",
           "#ab63fa",
           "#FFA15A",
           "#19d3f3",
           "#FF6692",
           "#B6E880",
           "#FF97FF",
           "#FECB52"
          ],
          "font": {
           "color": "#2a3f5f"
          },
          "geo": {
           "bgcolor": "white",
           "lakecolor": "white",
           "landcolor": "white",
           "showlakes": true,
           "showland": true,
           "subunitcolor": "#C8D4E3"
          },
          "hoverlabel": {
           "align": "left"
          },
          "hovermode": "closest",
          "mapbox": {
           "style": "light"
          },
          "paper_bgcolor": "white",
          "plot_bgcolor": "white",
          "polar": {
           "angularaxis": {
            "gridcolor": "#EBF0F8",
            "linecolor": "#EBF0F8",
            "ticks": ""
           },
           "bgcolor": "white",
           "radialaxis": {
            "gridcolor": "#EBF0F8",
            "linecolor": "#EBF0F8",
            "ticks": ""
           }
          },
          "scene": {
           "xaxis": {
            "backgroundcolor": "white",
            "gridcolor": "#DFE8F3",
            "gridwidth": 2,
            "linecolor": "#EBF0F8",
            "showbackground": true,
            "ticks": "",
            "zerolinecolor": "#EBF0F8"
           },
           "yaxis": {
            "backgroundcolor": "white",
            "gridcolor": "#DFE8F3",
            "gridwidth": 2,
            "linecolor": "#EBF0F8",
            "showbackground": true,
            "ticks": "",
            "zerolinecolor": "#EBF0F8"
           },
           "zaxis": {
            "backgroundcolor": "white",
            "gridcolor": "#DFE8F3",
            "gridwidth": 2,
            "linecolor": "#EBF0F8",
            "showbackground": true,
            "ticks": "",
            "zerolinecolor": "#EBF0F8"
           }
          },
          "shapedefaults": {
           "line": {
            "color": "#2a3f5f"
           }
          },
          "ternary": {
           "aaxis": {
            "gridcolor": "#DFE8F3",
            "linecolor": "#A2B1C6",
            "ticks": ""
           },
           "baxis": {
            "gridcolor": "#DFE8F3",
            "linecolor": "#A2B1C6",
            "ticks": ""
           },
           "bgcolor": "white",
           "caxis": {
            "gridcolor": "#DFE8F3",
            "linecolor": "#A2B1C6",
            "ticks": ""
           }
          },
          "title": {
           "x": 0.05
          },
          "xaxis": {
           "automargin": true,
           "gridcolor": "#EBF0F8",
           "linecolor": "#EBF0F8",
           "ticks": "",
           "title": {
            "standoff": 15
           },
           "zerolinecolor": "#EBF0F8",
           "zerolinewidth": 2
          },
          "yaxis": {
           "automargin": true,
           "gridcolor": "#EBF0F8",
           "linecolor": "#EBF0F8",
           "ticks": "",
           "title": {
            "standoff": 15
           },
           "zerolinecolor": "#EBF0F8",
           "zerolinewidth": 2
          }
         }
        },
        "title": {
         "text": "Saves vs Clean Sheets for Top Goalkeepers"
        },
        "xaxis": {
         "anchor": "y",
         "domain": [
          0,
          1
         ],
         "title": {
          "text": "Points from Saves"
         }
        },
        "yaxis": {
         "anchor": "x",
         "domain": [
          0,
          1
         ],
         "title": {
          "text": "Points from Clean Sheets"
         }
        }
       }
      }
     },
     "metadata": {},
     "output_type": "display_data"
    }
   ],
   "source": [
    "fig = px.scatter(top_goalkeepers,\n",
    "            x='saves_points',\n",
    "            y='clean_sheet_points',\n",
    "            color='total_points',\n",
    "            template='plotly_white',\n",
    "            title='Saves vs Clean Sheets for Top Goalkeepers',\n",
    "            labels={'saves_points': 'Points from Saves', 'clean_sheet_points': 'Points from Clean Sheets', 'total_points': 'Total Points'})\n",
    "\n",
    "fig.show()"
   ]
  },
  {
   "cell_type": "markdown",
   "metadata": {},
   "source": [
    "From the chart above it's noticeable that there are 2 types of goalkeepers. \n",
    "First, there are two on the left side of the chart, with low number of saves and high number of clean sheets, which points to them playing for teams which play styles don't allow for a lot of shots on their goal. \n",
    "Second, the rest of the field has slightly higher number of saves than the median for the next best 10%, but clean sheet numbers remain high. Those additional saves are probably, to some extent, what drives higher clean sheet numbers. So, since we can assume this group of best keepers and the next best 10% are facing around the same number of shots, the difference in clean sheets is probably driven by some combination of goalkeeper's ability and their teams overall defensive strengths, which leads to shots that are easier to save.\n",
    "\n",
    "So, to conclude the goalkeeper part of the analysis, best options are the goalkeepers with high number of clean sheets, and that could come from their team facing little shots in general, or from combination of keeper's ability and their team's defensive strength."
   ]
  },
  {
   "cell_type": "markdown",
   "metadata": {},
   "source": [
    "#### 2.2 Defenders"
   ]
  },
  {
   "cell_type": "code",
   "execution_count": 7,
   "metadata": {},
   "outputs": [
    {
     "data": {
      "application/vnd.plotly.v1+json": {
       "config": {
        "plotlyServerURL": "https://plot.ly"
       },
       "data": [
        {
         "marker": {
          "color": "blue"
         },
         "name": "Top Defenders",
         "text": [
          54.9,
          32,
          -11.7,
          11.6,
          9.8,
          8.3,
          -4.1,
          -0.4,
          -0.3,
          0,
          0,
          0
         ],
         "type": "bar",
         "x": [
          "Minutes",
          "Clean Sheets",
          "Goals Conceeded",
          "Goals Scored",
          "Bonus",
          "Assists",
          "Yellow Cards",
          "Red Cards",
          "Own Goals",
          "Penalty Misses",
          "Saves",
          "Penalty Saves"
         ],
         "y": [
          54.852987669933604,
          31.994941511223523,
          -11.697755295605438,
          11.571293076193486,
          9.800822004426179,
          8.251659816629783,
          -4.141637685741385,
          -0.37938665823585205,
          -0.25292443882390137,
          0,
          0,
          0
         ]
        },
        {
         "marker": {
          "color": "red"
         },
         "name": "Rest of Defenders",
         "text": [
          83.4,
          25.8,
          -22.7,
          9.6,
          7.6,
          -7.5,
          6.1,
          -1.2,
          -1,
          0,
          0,
          0
         ],
         "type": "bar",
         "x": [
          "Minutes",
          "Clean Sheets",
          "Goals Conceeded",
          "Goals Scored",
          "Assists",
          "Yellow Cards",
          "Bonus",
          "Red Cards",
          "Own Goals",
          "Penalty Misses",
          "Saves",
          "Penalty Saves"
         ],
         "y": [
          83.40668296658517,
          25.819070904645475,
          -22.72208638956805,
          9.58435207823961,
          7.579462102689487,
          -7.546862265688671,
          6.112469437652812,
          -1.2224938875305624,
          -1.0105949470252649,
          0,
          0,
          0
         ]
        }
       ],
       "layout": {
        "barmode": "group",
        "legend": {
         "orientation": "h",
         "y": 10,
         "yanchor": "top"
        },
        "template": {
         "data": {
          "bar": [
           {
            "error_x": {
             "color": "#2a3f5f"
            },
            "error_y": {
             "color": "#2a3f5f"
            },
            "marker": {
             "line": {
              "color": "white",
              "width": 0.5
             },
             "pattern": {
              "fillmode": "overlay",
              "size": 10,
              "solidity": 0.2
             }
            },
            "type": "bar"
           }
          ],
          "barpolar": [
           {
            "marker": {
             "line": {
              "color": "white",
              "width": 0.5
             },
             "pattern": {
              "fillmode": "overlay",
              "size": 10,
              "solidity": 0.2
             }
            },
            "type": "barpolar"
           }
          ],
          "carpet": [
           {
            "aaxis": {
             "endlinecolor": "#2a3f5f",
             "gridcolor": "#C8D4E3",
             "linecolor": "#C8D4E3",
             "minorgridcolor": "#C8D4E3",
             "startlinecolor": "#2a3f5f"
            },
            "baxis": {
             "endlinecolor": "#2a3f5f",
             "gridcolor": "#C8D4E3",
             "linecolor": "#C8D4E3",
             "minorgridcolor": "#C8D4E3",
             "startlinecolor": "#2a3f5f"
            },
            "type": "carpet"
           }
          ],
          "choropleth": [
           {
            "colorbar": {
             "outlinewidth": 0,
             "ticks": ""
            },
            "type": "choropleth"
           }
          ],
          "contour": [
           {
            "colorbar": {
             "outlinewidth": 0,
             "ticks": ""
            },
            "colorscale": [
             [
              0,
              "#0d0887"
             ],
             [
              0.1111111111111111,
              "#46039f"
             ],
             [
              0.2222222222222222,
              "#7201a8"
             ],
             [
              0.3333333333333333,
              "#9c179e"
             ],
             [
              0.4444444444444444,
              "#bd3786"
             ],
             [
              0.5555555555555556,
              "#d8576b"
             ],
             [
              0.6666666666666666,
              "#ed7953"
             ],
             [
              0.7777777777777778,
              "#fb9f3a"
             ],
             [
              0.8888888888888888,
              "#fdca26"
             ],
             [
              1,
              "#f0f921"
             ]
            ],
            "type": "contour"
           }
          ],
          "contourcarpet": [
           {
            "colorbar": {
             "outlinewidth": 0,
             "ticks": ""
            },
            "type": "contourcarpet"
           }
          ],
          "heatmap": [
           {
            "colorbar": {
             "outlinewidth": 0,
             "ticks": ""
            },
            "colorscale": [
             [
              0,
              "#0d0887"
             ],
             [
              0.1111111111111111,
              "#46039f"
             ],
             [
              0.2222222222222222,
              "#7201a8"
             ],
             [
              0.3333333333333333,
              "#9c179e"
             ],
             [
              0.4444444444444444,
              "#bd3786"
             ],
             [
              0.5555555555555556,
              "#d8576b"
             ],
             [
              0.6666666666666666,
              "#ed7953"
             ],
             [
              0.7777777777777778,
              "#fb9f3a"
             ],
             [
              0.8888888888888888,
              "#fdca26"
             ],
             [
              1,
              "#f0f921"
             ]
            ],
            "type": "heatmap"
           }
          ],
          "heatmapgl": [
           {
            "colorbar": {
             "outlinewidth": 0,
             "ticks": ""
            },
            "colorscale": [
             [
              0,
              "#0d0887"
             ],
             [
              0.1111111111111111,
              "#46039f"
             ],
             [
              0.2222222222222222,
              "#7201a8"
             ],
             [
              0.3333333333333333,
              "#9c179e"
             ],
             [
              0.4444444444444444,
              "#bd3786"
             ],
             [
              0.5555555555555556,
              "#d8576b"
             ],
             [
              0.6666666666666666,
              "#ed7953"
             ],
             [
              0.7777777777777778,
              "#fb9f3a"
             ],
             [
              0.8888888888888888,
              "#fdca26"
             ],
             [
              1,
              "#f0f921"
             ]
            ],
            "type": "heatmapgl"
           }
          ],
          "histogram": [
           {
            "marker": {
             "pattern": {
              "fillmode": "overlay",
              "size": 10,
              "solidity": 0.2
             }
            },
            "type": "histogram"
           }
          ],
          "histogram2d": [
           {
            "colorbar": {
             "outlinewidth": 0,
             "ticks": ""
            },
            "colorscale": [
             [
              0,
              "#0d0887"
             ],
             [
              0.1111111111111111,
              "#46039f"
             ],
             [
              0.2222222222222222,
              "#7201a8"
             ],
             [
              0.3333333333333333,
              "#9c179e"
             ],
             [
              0.4444444444444444,
              "#bd3786"
             ],
             [
              0.5555555555555556,
              "#d8576b"
             ],
             [
              0.6666666666666666,
              "#ed7953"
             ],
             [
              0.7777777777777778,
              "#fb9f3a"
             ],
             [
              0.8888888888888888,
              "#fdca26"
             ],
             [
              1,
              "#f0f921"
             ]
            ],
            "type": "histogram2d"
           }
          ],
          "histogram2dcontour": [
           {
            "colorbar": {
             "outlinewidth": 0,
             "ticks": ""
            },
            "colorscale": [
             [
              0,
              "#0d0887"
             ],
             [
              0.1111111111111111,
              "#46039f"
             ],
             [
              0.2222222222222222,
              "#7201a8"
             ],
             [
              0.3333333333333333,
              "#9c179e"
             ],
             [
              0.4444444444444444,
              "#bd3786"
             ],
             [
              0.5555555555555556,
              "#d8576b"
             ],
             [
              0.6666666666666666,
              "#ed7953"
             ],
             [
              0.7777777777777778,
              "#fb9f3a"
             ],
             [
              0.8888888888888888,
              "#fdca26"
             ],
             [
              1,
              "#f0f921"
             ]
            ],
            "type": "histogram2dcontour"
           }
          ],
          "mesh3d": [
           {
            "colorbar": {
             "outlinewidth": 0,
             "ticks": ""
            },
            "type": "mesh3d"
           }
          ],
          "parcoords": [
           {
            "line": {
             "colorbar": {
              "outlinewidth": 0,
              "ticks": ""
             }
            },
            "type": "parcoords"
           }
          ],
          "pie": [
           {
            "automargin": true,
            "type": "pie"
           }
          ],
          "scatter": [
           {
            "fillpattern": {
             "fillmode": "overlay",
             "size": 10,
             "solidity": 0.2
            },
            "type": "scatter"
           }
          ],
          "scatter3d": [
           {
            "line": {
             "colorbar": {
              "outlinewidth": 0,
              "ticks": ""
             }
            },
            "marker": {
             "colorbar": {
              "outlinewidth": 0,
              "ticks": ""
             }
            },
            "type": "scatter3d"
           }
          ],
          "scattercarpet": [
           {
            "marker": {
             "colorbar": {
              "outlinewidth": 0,
              "ticks": ""
             }
            },
            "type": "scattercarpet"
           }
          ],
          "scattergeo": [
           {
            "marker": {
             "colorbar": {
              "outlinewidth": 0,
              "ticks": ""
             }
            },
            "type": "scattergeo"
           }
          ],
          "scattergl": [
           {
            "marker": {
             "colorbar": {
              "outlinewidth": 0,
              "ticks": ""
             }
            },
            "type": "scattergl"
           }
          ],
          "scattermapbox": [
           {
            "marker": {
             "colorbar": {
              "outlinewidth": 0,
              "ticks": ""
             }
            },
            "type": "scattermapbox"
           }
          ],
          "scatterpolar": [
           {
            "marker": {
             "colorbar": {
              "outlinewidth": 0,
              "ticks": ""
             }
            },
            "type": "scatterpolar"
           }
          ],
          "scatterpolargl": [
           {
            "marker": {
             "colorbar": {
              "outlinewidth": 0,
              "ticks": ""
             }
            },
            "type": "scatterpolargl"
           }
          ],
          "scatterternary": [
           {
            "marker": {
             "colorbar": {
              "outlinewidth": 0,
              "ticks": ""
             }
            },
            "type": "scatterternary"
           }
          ],
          "surface": [
           {
            "colorbar": {
             "outlinewidth": 0,
             "ticks": ""
            },
            "colorscale": [
             [
              0,
              "#0d0887"
             ],
             [
              0.1111111111111111,
              "#46039f"
             ],
             [
              0.2222222222222222,
              "#7201a8"
             ],
             [
              0.3333333333333333,
              "#9c179e"
             ],
             [
              0.4444444444444444,
              "#bd3786"
             ],
             [
              0.5555555555555556,
              "#d8576b"
             ],
             [
              0.6666666666666666,
              "#ed7953"
             ],
             [
              0.7777777777777778,
              "#fb9f3a"
             ],
             [
              0.8888888888888888,
              "#fdca26"
             ],
             [
              1,
              "#f0f921"
             ]
            ],
            "type": "surface"
           }
          ],
          "table": [
           {
            "cells": {
             "fill": {
              "color": "#EBF0F8"
             },
             "line": {
              "color": "white"
             }
            },
            "header": {
             "fill": {
              "color": "#C8D4E3"
             },
             "line": {
              "color": "white"
             }
            },
            "type": "table"
           }
          ]
         },
         "layout": {
          "annotationdefaults": {
           "arrowcolor": "#2a3f5f",
           "arrowhead": 0,
           "arrowwidth": 1
          },
          "autotypenumbers": "strict",
          "coloraxis": {
           "colorbar": {
            "outlinewidth": 0,
            "ticks": ""
           }
          },
          "colorscale": {
           "diverging": [
            [
             0,
             "#8e0152"
            ],
            [
             0.1,
             "#c51b7d"
            ],
            [
             0.2,
             "#de77ae"
            ],
            [
             0.3,
             "#f1b6da"
            ],
            [
             0.4,
             "#fde0ef"
            ],
            [
             0.5,
             "#f7f7f7"
            ],
            [
             0.6,
             "#e6f5d0"
            ],
            [
             0.7,
             "#b8e186"
            ],
            [
             0.8,
             "#7fbc41"
            ],
            [
             0.9,
             "#4d9221"
            ],
            [
             1,
             "#276419"
            ]
           ],
           "sequential": [
            [
             0,
             "#0d0887"
            ],
            [
             0.1111111111111111,
             "#46039f"
            ],
            [
             0.2222222222222222,
             "#7201a8"
            ],
            [
             0.3333333333333333,
             "#9c179e"
            ],
            [
             0.4444444444444444,
             "#bd3786"
            ],
            [
             0.5555555555555556,
             "#d8576b"
            ],
            [
             0.6666666666666666,
             "#ed7953"
            ],
            [
             0.7777777777777778,
             "#fb9f3a"
            ],
            [
             0.8888888888888888,
             "#fdca26"
            ],
            [
             1,
             "#f0f921"
            ]
           ],
           "sequentialminus": [
            [
             0,
             "#0d0887"
            ],
            [
             0.1111111111111111,
             "#46039f"
            ],
            [
             0.2222222222222222,
             "#7201a8"
            ],
            [
             0.3333333333333333,
             "#9c179e"
            ],
            [
             0.4444444444444444,
             "#bd3786"
            ],
            [
             0.5555555555555556,
             "#d8576b"
            ],
            [
             0.6666666666666666,
             "#ed7953"
            ],
            [
             0.7777777777777778,
             "#fb9f3a"
            ],
            [
             0.8888888888888888,
             "#fdca26"
            ],
            [
             1,
             "#f0f921"
            ]
           ]
          },
          "colorway": [
           "#636efa",
           "#EF553B",
           "#00cc96",
           "#ab63fa",
           "#FFA15A",
           "#19d3f3",
           "#FF6692",
           "#B6E880",
           "#FF97FF",
           "#FECB52"
          ],
          "font": {
           "color": "#2a3f5f"
          },
          "geo": {
           "bgcolor": "white",
           "lakecolor": "white",
           "landcolor": "white",
           "showlakes": true,
           "showland": true,
           "subunitcolor": "#C8D4E3"
          },
          "hoverlabel": {
           "align": "left"
          },
          "hovermode": "closest",
          "mapbox": {
           "style": "light"
          },
          "paper_bgcolor": "white",
          "plot_bgcolor": "white",
          "polar": {
           "angularaxis": {
            "gridcolor": "#EBF0F8",
            "linecolor": "#EBF0F8",
            "ticks": ""
           },
           "bgcolor": "white",
           "radialaxis": {
            "gridcolor": "#EBF0F8",
            "linecolor": "#EBF0F8",
            "ticks": ""
           }
          },
          "scene": {
           "xaxis": {
            "backgroundcolor": "white",
            "gridcolor": "#DFE8F3",
            "gridwidth": 2,
            "linecolor": "#EBF0F8",
            "showbackground": true,
            "ticks": "",
            "zerolinecolor": "#EBF0F8"
           },
           "yaxis": {
            "backgroundcolor": "white",
            "gridcolor": "#DFE8F3",
            "gridwidth": 2,
            "linecolor": "#EBF0F8",
            "showbackground": true,
            "ticks": "",
            "zerolinecolor": "#EBF0F8"
           },
           "zaxis": {
            "backgroundcolor": "white",
            "gridcolor": "#DFE8F3",
            "gridwidth": 2,
            "linecolor": "#EBF0F8",
            "showbackground": true,
            "ticks": "",
            "zerolinecolor": "#EBF0F8"
           }
          },
          "shapedefaults": {
           "line": {
            "color": "#2a3f5f"
           }
          },
          "ternary": {
           "aaxis": {
            "gridcolor": "#DFE8F3",
            "linecolor": "#A2B1C6",
            "ticks": ""
           },
           "baxis": {
            "gridcolor": "#DFE8F3",
            "linecolor": "#A2B1C6",
            "ticks": ""
           },
           "bgcolor": "white",
           "caxis": {
            "gridcolor": "#DFE8F3",
            "linecolor": "#A2B1C6",
            "ticks": ""
           }
          },
          "title": {
           "x": 0.05
          },
          "xaxis": {
           "automargin": true,
           "gridcolor": "#EBF0F8",
           "linecolor": "#EBF0F8",
           "ticks": "",
           "title": {
            "standoff": 15
           },
           "zerolinecolor": "#EBF0F8",
           "zerolinewidth": 2
          },
          "yaxis": {
           "automargin": true,
           "gridcolor": "#EBF0F8",
           "linecolor": "#EBF0F8",
           "ticks": "",
           "title": {
            "standoff": 15
           },
           "zerolinecolor": "#EBF0F8",
           "zerolinewidth": 2
          }
         }
        },
        "title": {
         "text": "Defenders Points Breakdown Comparison"
        },
        "xaxis": {
         "title": {
          "text": "Stats"
         }
        },
        "yaxis": {
         "title": {
          "text": "Percent of Points"
         }
        }
       }
      }
     },
     "metadata": {},
     "output_type": "display_data"
    }
   ],
   "source": [
    "trace1 = go.Bar(\n",
    "    x=top_def_percent.index,\n",
    "    y=top_def_percent.values,\n",
    "    name='Top Defenders',\n",
    "    marker_color='blue',\n",
    "    text=top_def_percent.values.round(1)\n",
    ")\n",
    "\n",
    "trace2 = go.Bar(\n",
    "    x=rest_def_percent.index,\n",
    "    y=rest_def_percent.values,\n",
    "    name='Rest of Defenders',\n",
    "    marker_color='red',\n",
    "    text=rest_def_percent.values.round(1)\n",
    ")\n",
    "\n",
    "fig = go.Figure(data=[trace1, trace2])\n",
    "\n",
    "fig.update_layout(\n",
    "    barmode='group',\n",
    "    title_text='Defenders Points Breakdown Comparison',\n",
    "    xaxis_title='Stats',\n",
    "    yaxis_title='Percent of Points',\n",
    "    legend={'orientation': 'h', 'yanchor': 'top', 'y': 10},\n",
    "    template='plotly_white'\n",
    ")\n",
    "\n",
    "fig.show()"
   ]
  },
  {
   "cell_type": "markdown",
   "metadata": {},
   "source": [
    "When looking at defenders, they can get points for both not conceding goals, but they also can have goals and assists more often, which was not the case with goalkeepers.\n",
    "\n",
    "And, from the picture above, even though they get larger amount of points for a goal than for a clean sheet (6 and 4 respectively), they create a much bigger difference with clean sheets, than goals scored or assists. When point deductions from goals conceded are included, than it's obvious that the main difference between the top and the rest is in conceding lesser amount of goals, while goals are additional benefit. This can be confirmed by looking at the medians for these two stats.\n",
    "\n",
    "Focus on players from teams with good defence, goals are added bonus (1. Full backs on teams with good defence 2. Players on teams with good defence 3. Players that generate goal contributions)"
   ]
  },
  {
   "cell_type": "code",
   "execution_count": 112,
   "metadata": {},
   "outputs": [
    {
     "name": "stdout",
     "output_type": "stream",
     "text": [
      "Top 10% defenders goals scored points median: 12.0\n",
      "Next 10% defenders goals scored points median: 6.0\n",
      "\n",
      "Top 10% defenders clean sheet points median: 36.0\n",
      "Next 10% defenders clean sheet points median: 20.0\n"
     ]
    }
   ],
   "source": [
    "print('Top 10% defenders goals scored points median: ' + str(top_defenders.goals_scored_points.median()))\n",
    "print('Next 10% defenders goals scored points median: ' + str(rest_defenders.head(num_top_defenders).goals_scored_points.median()))\n",
    "print('')\n",
    "print('Top 10% defenders clean sheet points median: ' + str(top_defenders.clean_sheet_points.median()))\n",
    "print('Next 10% defenders clean sheet points median: ' + str(rest_defenders.head(num_top_defenders).clean_sheet_points.median()))"
   ]
  },
  {
   "cell_type": "markdown",
   "metadata": {},
   "source": [
    "So the best defenders would be those on good defensive teams, who can also chip in goals (or assists). Since there are not a lot of those players, or they can be expensive, next focus, especially when looking for value, is to look for defenders on teams with good defenses."
   ]
  },
  {
   "cell_type": "markdown",
   "metadata": {},
   "source": [
    "#### 2.3 Midfielders"
   ]
  },
  {
   "cell_type": "code",
   "execution_count": 8,
   "metadata": {},
   "outputs": [
    {
     "data": {
      "application/vnd.plotly.v1+json": {
       "config": {
        "plotlyServerURL": "https://plot.ly"
       },
       "data": [
        {
         "marker": {
          "color": "blue"
         },
         "name": "Top Midfielders",
         "text": [
          40.7,
          30.7,
          16.5,
          10.2,
          5.5,
          -3.3,
          -0.2,
          -0.1,
          0,
          0,
          0,
          0
         ],
         "type": "bar",
         "x": [
          "Minutes",
          "Goals Scored",
          "Assists",
          "Bonus",
          "Clean Sheets",
          "Yellow Cards",
          "Red Cards",
          "Penalty Misses",
          "Own Goals",
          "Goals Conceeded",
          "Saves",
          "Penalty Saves"
         ],
         "y": [
          40.7154129405576,
          30.685604068034365,
          16.465018411362443,
          10.22268981237945,
          5.5409433631422065,
          -3.2789759775556724,
          -0.21041557075223566,
          -0.10520778537611783,
          -0.03506926179203928,
          0,
          0,
          0
         ]
        },
        {
         "marker": {
          "color": "red"
         },
         "name": "Rest of Midfielders",
         "text": [
          67.8,
          17.1,
          11.2,
          -6.4,
          6,
          5,
          -0.6,
          -0.1,
          0,
          0,
          0,
          0
         ],
         "type": "bar",
         "x": [
          "Minutes",
          "Goals Scored",
          "Assists",
          "Yellow Cards",
          "Clean Sheets",
          "Bonus",
          "Red Cards",
          "Own Goals",
          "Penalty Misses",
          "Goals Conceeded",
          "Saves",
          "Penalty Saves"
         ],
         "y": [
          67.8401727861771,
          17.11663066954644,
          11.20950323974082,
          -6.436285097192225,
          6.025917926565874,
          5.043196544276458,
          -0.6479481641468683,
          -0.10799136069114472,
          -0.04319654427645788,
          0,
          0,
          0
         ]
        }
       ],
       "layout": {
        "barmode": "group",
        "legend": {
         "orientation": "h",
         "y": 10,
         "yanchor": "top"
        },
        "template": {
         "data": {
          "bar": [
           {
            "error_x": {
             "color": "#2a3f5f"
            },
            "error_y": {
             "color": "#2a3f5f"
            },
            "marker": {
             "line": {
              "color": "white",
              "width": 0.5
             },
             "pattern": {
              "fillmode": "overlay",
              "size": 10,
              "solidity": 0.2
             }
            },
            "type": "bar"
           }
          ],
          "barpolar": [
           {
            "marker": {
             "line": {
              "color": "white",
              "width": 0.5
             },
             "pattern": {
              "fillmode": "overlay",
              "size": 10,
              "solidity": 0.2
             }
            },
            "type": "barpolar"
           }
          ],
          "carpet": [
           {
            "aaxis": {
             "endlinecolor": "#2a3f5f",
             "gridcolor": "#C8D4E3",
             "linecolor": "#C8D4E3",
             "minorgridcolor": "#C8D4E3",
             "startlinecolor": "#2a3f5f"
            },
            "baxis": {
             "endlinecolor": "#2a3f5f",
             "gridcolor": "#C8D4E3",
             "linecolor": "#C8D4E3",
             "minorgridcolor": "#C8D4E3",
             "startlinecolor": "#2a3f5f"
            },
            "type": "carpet"
           }
          ],
          "choropleth": [
           {
            "colorbar": {
             "outlinewidth": 0,
             "ticks": ""
            },
            "type": "choropleth"
           }
          ],
          "contour": [
           {
            "colorbar": {
             "outlinewidth": 0,
             "ticks": ""
            },
            "colorscale": [
             [
              0,
              "#0d0887"
             ],
             [
              0.1111111111111111,
              "#46039f"
             ],
             [
              0.2222222222222222,
              "#7201a8"
             ],
             [
              0.3333333333333333,
              "#9c179e"
             ],
             [
              0.4444444444444444,
              "#bd3786"
             ],
             [
              0.5555555555555556,
              "#d8576b"
             ],
             [
              0.6666666666666666,
              "#ed7953"
             ],
             [
              0.7777777777777778,
              "#fb9f3a"
             ],
             [
              0.8888888888888888,
              "#fdca26"
             ],
             [
              1,
              "#f0f921"
             ]
            ],
            "type": "contour"
           }
          ],
          "contourcarpet": [
           {
            "colorbar": {
             "outlinewidth": 0,
             "ticks": ""
            },
            "type": "contourcarpet"
           }
          ],
          "heatmap": [
           {
            "colorbar": {
             "outlinewidth": 0,
             "ticks": ""
            },
            "colorscale": [
             [
              0,
              "#0d0887"
             ],
             [
              0.1111111111111111,
              "#46039f"
             ],
             [
              0.2222222222222222,
              "#7201a8"
             ],
             [
              0.3333333333333333,
              "#9c179e"
             ],
             [
              0.4444444444444444,
              "#bd3786"
             ],
             [
              0.5555555555555556,
              "#d8576b"
             ],
             [
              0.6666666666666666,
              "#ed7953"
             ],
             [
              0.7777777777777778,
              "#fb9f3a"
             ],
             [
              0.8888888888888888,
              "#fdca26"
             ],
             [
              1,
              "#f0f921"
             ]
            ],
            "type": "heatmap"
           }
          ],
          "heatmapgl": [
           {
            "colorbar": {
             "outlinewidth": 0,
             "ticks": ""
            },
            "colorscale": [
             [
              0,
              "#0d0887"
             ],
             [
              0.1111111111111111,
              "#46039f"
             ],
             [
              0.2222222222222222,
              "#7201a8"
             ],
             [
              0.3333333333333333,
              "#9c179e"
             ],
             [
              0.4444444444444444,
              "#bd3786"
             ],
             [
              0.5555555555555556,
              "#d8576b"
             ],
             [
              0.6666666666666666,
              "#ed7953"
             ],
             [
              0.7777777777777778,
              "#fb9f3a"
             ],
             [
              0.8888888888888888,
              "#fdca26"
             ],
             [
              1,
              "#f0f921"
             ]
            ],
            "type": "heatmapgl"
           }
          ],
          "histogram": [
           {
            "marker": {
             "pattern": {
              "fillmode": "overlay",
              "size": 10,
              "solidity": 0.2
             }
            },
            "type": "histogram"
           }
          ],
          "histogram2d": [
           {
            "colorbar": {
             "outlinewidth": 0,
             "ticks": ""
            },
            "colorscale": [
             [
              0,
              "#0d0887"
             ],
             [
              0.1111111111111111,
              "#46039f"
             ],
             [
              0.2222222222222222,
              "#7201a8"
             ],
             [
              0.3333333333333333,
              "#9c179e"
             ],
             [
              0.4444444444444444,
              "#bd3786"
             ],
             [
              0.5555555555555556,
              "#d8576b"
             ],
             [
              0.6666666666666666,
              "#ed7953"
             ],
             [
              0.7777777777777778,
              "#fb9f3a"
             ],
             [
              0.8888888888888888,
              "#fdca26"
             ],
             [
              1,
              "#f0f921"
             ]
            ],
            "type": "histogram2d"
           }
          ],
          "histogram2dcontour": [
           {
            "colorbar": {
             "outlinewidth": 0,
             "ticks": ""
            },
            "colorscale": [
             [
              0,
              "#0d0887"
             ],
             [
              0.1111111111111111,
              "#46039f"
             ],
             [
              0.2222222222222222,
              "#7201a8"
             ],
             [
              0.3333333333333333,
              "#9c179e"
             ],
             [
              0.4444444444444444,
              "#bd3786"
             ],
             [
              0.5555555555555556,
              "#d8576b"
             ],
             [
              0.6666666666666666,
              "#ed7953"
             ],
             [
              0.7777777777777778,
              "#fb9f3a"
             ],
             [
              0.8888888888888888,
              "#fdca26"
             ],
             [
              1,
              "#f0f921"
             ]
            ],
            "type": "histogram2dcontour"
           }
          ],
          "mesh3d": [
           {
            "colorbar": {
             "outlinewidth": 0,
             "ticks": ""
            },
            "type": "mesh3d"
           }
          ],
          "parcoords": [
           {
            "line": {
             "colorbar": {
              "outlinewidth": 0,
              "ticks": ""
             }
            },
            "type": "parcoords"
           }
          ],
          "pie": [
           {
            "automargin": true,
            "type": "pie"
           }
          ],
          "scatter": [
           {
            "fillpattern": {
             "fillmode": "overlay",
             "size": 10,
             "solidity": 0.2
            },
            "type": "scatter"
           }
          ],
          "scatter3d": [
           {
            "line": {
             "colorbar": {
              "outlinewidth": 0,
              "ticks": ""
             }
            },
            "marker": {
             "colorbar": {
              "outlinewidth": 0,
              "ticks": ""
             }
            },
            "type": "scatter3d"
           }
          ],
          "scattercarpet": [
           {
            "marker": {
             "colorbar": {
              "outlinewidth": 0,
              "ticks": ""
             }
            },
            "type": "scattercarpet"
           }
          ],
          "scattergeo": [
           {
            "marker": {
             "colorbar": {
              "outlinewidth": 0,
              "ticks": ""
             }
            },
            "type": "scattergeo"
           }
          ],
          "scattergl": [
           {
            "marker": {
             "colorbar": {
              "outlinewidth": 0,
              "ticks": ""
             }
            },
            "type": "scattergl"
           }
          ],
          "scattermapbox": [
           {
            "marker": {
             "colorbar": {
              "outlinewidth": 0,
              "ticks": ""
             }
            },
            "type": "scattermapbox"
           }
          ],
          "scatterpolar": [
           {
            "marker": {
             "colorbar": {
              "outlinewidth": 0,
              "ticks": ""
             }
            },
            "type": "scatterpolar"
           }
          ],
          "scatterpolargl": [
           {
            "marker": {
             "colorbar": {
              "outlinewidth": 0,
              "ticks": ""
             }
            },
            "type": "scatterpolargl"
           }
          ],
          "scatterternary": [
           {
            "marker": {
             "colorbar": {
              "outlinewidth": 0,
              "ticks": ""
             }
            },
            "type": "scatterternary"
           }
          ],
          "surface": [
           {
            "colorbar": {
             "outlinewidth": 0,
             "ticks": ""
            },
            "colorscale": [
             [
              0,
              "#0d0887"
             ],
             [
              0.1111111111111111,
              "#46039f"
             ],
             [
              0.2222222222222222,
              "#7201a8"
             ],
             [
              0.3333333333333333,
              "#9c179e"
             ],
             [
              0.4444444444444444,
              "#bd3786"
             ],
             [
              0.5555555555555556,
              "#d8576b"
             ],
             [
              0.6666666666666666,
              "#ed7953"
             ],
             [
              0.7777777777777778,
              "#fb9f3a"
             ],
             [
              0.8888888888888888,
              "#fdca26"
             ],
             [
              1,
              "#f0f921"
             ]
            ],
            "type": "surface"
           }
          ],
          "table": [
           {
            "cells": {
             "fill": {
              "color": "#EBF0F8"
             },
             "line": {
              "color": "white"
             }
            },
            "header": {
             "fill": {
              "color": "#C8D4E3"
             },
             "line": {
              "color": "white"
             }
            },
            "type": "table"
           }
          ]
         },
         "layout": {
          "annotationdefaults": {
           "arrowcolor": "#2a3f5f",
           "arrowhead": 0,
           "arrowwidth": 1
          },
          "autotypenumbers": "strict",
          "coloraxis": {
           "colorbar": {
            "outlinewidth": 0,
            "ticks": ""
           }
          },
          "colorscale": {
           "diverging": [
            [
             0,
             "#8e0152"
            ],
            [
             0.1,
             "#c51b7d"
            ],
            [
             0.2,
             "#de77ae"
            ],
            [
             0.3,
             "#f1b6da"
            ],
            [
             0.4,
             "#fde0ef"
            ],
            [
             0.5,
             "#f7f7f7"
            ],
            [
             0.6,
             "#e6f5d0"
            ],
            [
             0.7,
             "#b8e186"
            ],
            [
             0.8,
             "#7fbc41"
            ],
            [
             0.9,
             "#4d9221"
            ],
            [
             1,
             "#276419"
            ]
           ],
           "sequential": [
            [
             0,
             "#0d0887"
            ],
            [
             0.1111111111111111,
             "#46039f"
            ],
            [
             0.2222222222222222,
             "#7201a8"
            ],
            [
             0.3333333333333333,
             "#9c179e"
            ],
            [
             0.4444444444444444,
             "#bd3786"
            ],
            [
             0.5555555555555556,
             "#d8576b"
            ],
            [
             0.6666666666666666,
             "#ed7953"
            ],
            [
             0.7777777777777778,
             "#fb9f3a"
            ],
            [
             0.8888888888888888,
             "#fdca26"
            ],
            [
             1,
             "#f0f921"
            ]
           ],
           "sequentialminus": [
            [
             0,
             "#0d0887"
            ],
            [
             0.1111111111111111,
             "#46039f"
            ],
            [
             0.2222222222222222,
             "#7201a8"
            ],
            [
             0.3333333333333333,
             "#9c179e"
            ],
            [
             0.4444444444444444,
             "#bd3786"
            ],
            [
             0.5555555555555556,
             "#d8576b"
            ],
            [
             0.6666666666666666,
             "#ed7953"
            ],
            [
             0.7777777777777778,
             "#fb9f3a"
            ],
            [
             0.8888888888888888,
             "#fdca26"
            ],
            [
             1,
             "#f0f921"
            ]
           ]
          },
          "colorway": [
           "#636efa",
           "#EF553B",
           "#00cc96",
           "#ab63fa",
           "#FFA15A",
           "#19d3f3",
           "#FF6692",
           "#B6E880",
           "#FF97FF",
           "#FECB52"
          ],
          "font": {
           "color": "#2a3f5f"
          },
          "geo": {
           "bgcolor": "white",
           "lakecolor": "white",
           "landcolor": "white",
           "showlakes": true,
           "showland": true,
           "subunitcolor": "#C8D4E3"
          },
          "hoverlabel": {
           "align": "left"
          },
          "hovermode": "closest",
          "mapbox": {
           "style": "light"
          },
          "paper_bgcolor": "white",
          "plot_bgcolor": "white",
          "polar": {
           "angularaxis": {
            "gridcolor": "#EBF0F8",
            "linecolor": "#EBF0F8",
            "ticks": ""
           },
           "bgcolor": "white",
           "radialaxis": {
            "gridcolor": "#EBF0F8",
            "linecolor": "#EBF0F8",
            "ticks": ""
           }
          },
          "scene": {
           "xaxis": {
            "backgroundcolor": "white",
            "gridcolor": "#DFE8F3",
            "gridwidth": 2,
            "linecolor": "#EBF0F8",
            "showbackground": true,
            "ticks": "",
            "zerolinecolor": "#EBF0F8"
           },
           "yaxis": {
            "backgroundcolor": "white",
            "gridcolor": "#DFE8F3",
            "gridwidth": 2,
            "linecolor": "#EBF0F8",
            "showbackground": true,
            "ticks": "",
            "zerolinecolor": "#EBF0F8"
           },
           "zaxis": {
            "backgroundcolor": "white",
            "gridcolor": "#DFE8F3",
            "gridwidth": 2,
            "linecolor": "#EBF0F8",
            "showbackground": true,
            "ticks": "",
            "zerolinecolor": "#EBF0F8"
           }
          },
          "shapedefaults": {
           "line": {
            "color": "#2a3f5f"
           }
          },
          "ternary": {
           "aaxis": {
            "gridcolor": "#DFE8F3",
            "linecolor": "#A2B1C6",
            "ticks": ""
           },
           "baxis": {
            "gridcolor": "#DFE8F3",
            "linecolor": "#A2B1C6",
            "ticks": ""
           },
           "bgcolor": "white",
           "caxis": {
            "gridcolor": "#DFE8F3",
            "linecolor": "#A2B1C6",
            "ticks": ""
           }
          },
          "title": {
           "x": 0.05
          },
          "xaxis": {
           "automargin": true,
           "gridcolor": "#EBF0F8",
           "linecolor": "#EBF0F8",
           "ticks": "",
           "title": {
            "standoff": 15
           },
           "zerolinecolor": "#EBF0F8",
           "zerolinewidth": 2
          },
          "yaxis": {
           "automargin": true,
           "gridcolor": "#EBF0F8",
           "linecolor": "#EBF0F8",
           "ticks": "",
           "title": {
            "standoff": 15
           },
           "zerolinecolor": "#EBF0F8",
           "zerolinewidth": 2
          }
         }
        },
        "title": {
         "text": "Midfielders Points Breakdown Comparison"
        },
        "xaxis": {
         "title": {
          "text": "Stats"
         }
        },
        "yaxis": {
         "title": {
          "text": "Percent of Points"
         }
        }
       }
      }
     },
     "metadata": {},
     "output_type": "display_data"
    }
   ],
   "source": [
    "trace1 = go.Bar(\n",
    "    x=top_mid_percent.index,\n",
    "    y=top_mid_percent.values,\n",
    "    name='Top Midfielders',\n",
    "    marker_color='blue',\n",
    "    text=top_mid_percent.values.round(1)\n",
    ")\n",
    "\n",
    "trace2 = go.Bar(\n",
    "    x=rest_mid_percent.index,\n",
    "    y=rest_mid_percent.values,\n",
    "    name='Rest of Midfielders',\n",
    "    marker_color='red',\n",
    "    text=rest_mid_percent.values.round(1)\n",
    ")\n",
    "\n",
    "fig = go.Figure(data=[trace1, trace2])\n",
    "\n",
    "fig.update_layout(\n",
    "    barmode='group',\n",
    "    title_text='Midfielders Points Breakdown Comparison',\n",
    "    xaxis_title='Stats',\n",
    "    yaxis_title='Percent of Points',\n",
    "    legend={'orientation': 'h', 'yanchor': 'top', 'y': 10},\n",
    "    template='plotly_white'\n",
    ")\n",
    "\n",
    "fig.show()"
   ]
  },
  {
   "cell_type": "markdown",
   "metadata": {},
   "source": [
    "With midfielders focus shifts to goals and assists, even though they can get some points for clean sheets.\n",
    "\n",
    "Since the midfield players have the most variety in the roles they have, it's important to distinguish those that are most worthy for fantasy. \n",
    "\n",
    "By far, the biggest difference that top players create if from the goals they score, while assits are secondary. Clean sheets don't create a meaningful difference either way, and the same goes for yellow cards but to a lesser extent. This actually separates midfielders into three groups that can be ranked by how they are worth in fantasy:\n",
    "1. Goal scoring midfielders - Wingers who could often could be considered as forwards outside of fantasy\n",
    "2. Creative midfielders - Those tasked with creating chances and assisting to their teammates\n",
    "3. Ball controling or defensive midfielders - Usually provide balance to the team on the field\n",
    "\n",
    "So, as it's known in the fantasy community, it pays off the most to go after goal scoring wingers as midfield options."
   ]
  },
  {
   "cell_type": "markdown",
   "metadata": {},
   "source": [
    "#### 2.4 Forwards"
   ]
  },
  {
   "cell_type": "code",
   "execution_count": 9,
   "metadata": {},
   "outputs": [
    {
     "data": {
      "application/vnd.plotly.v1+json": {
       "config": {
        "plotlyServerURL": "https://plot.ly"
       },
       "data": [
        {
         "marker": {
          "color": "blue"
         },
         "name": "Top Forwards",
         "text": [
          39.2,
          38.4,
          14.2,
          11.6,
          -2.9,
          -0.4,
          0,
          0,
          0,
          0,
          0,
          0
         ],
         "type": "bar",
         "x": [
          "Minutes",
          "Goals Scored",
          "Assists",
          "Bonus",
          "Yellow Cards",
          "Penalty Misses",
          "Own Goals",
          "Goals Conceeded",
          "Saves",
          "Penalty Saves",
          "Clean Sheets",
          "Red Cards"
         ],
         "y": [
          39.20044419766796,
          38.42309827873404,
          14.158800666296504,
          11.604664075513602,
          -2.9428095502498612,
          -0.44419766796224325,
          0,
          0,
          0,
          0,
          0,
          0
         ]
        },
        {
         "marker": {
          "color": "red"
         },
         "name": "Rest of Forwards",
         "text": [
          56.6,
          28.8,
          9.9,
          9.1,
          -3.7,
          -0.5,
          -0.1,
          0,
          0,
          0,
          0,
          0
         ],
         "type": "bar",
         "x": [
          "Minutes",
          "Goals Scored",
          "Bonus",
          "Assists",
          "Yellow Cards",
          "Red Cards",
          "Penalty Misses",
          "Own Goals",
          "Goals Conceeded",
          "Saves",
          "Penalty Saves",
          "Clean Sheets"
         ],
         "y": [
          56.567874130991584,
          28.832784485912917,
          9.91584339553604,
          9.11086717892426,
          -3.7321624588364433,
          -0.5488474204171241,
          -0.14635931211123307,
          0,
          0,
          0,
          0,
          0
         ]
        }
       ],
       "layout": {
        "barmode": "group",
        "legend": {
         "orientation": "h",
         "y": 10,
         "yanchor": "top"
        },
        "template": {
         "data": {
          "bar": [
           {
            "error_x": {
             "color": "#2a3f5f"
            },
            "error_y": {
             "color": "#2a3f5f"
            },
            "marker": {
             "line": {
              "color": "white",
              "width": 0.5
             },
             "pattern": {
              "fillmode": "overlay",
              "size": 10,
              "solidity": 0.2
             }
            },
            "type": "bar"
           }
          ],
          "barpolar": [
           {
            "marker": {
             "line": {
              "color": "white",
              "width": 0.5
             },
             "pattern": {
              "fillmode": "overlay",
              "size": 10,
              "solidity": 0.2
             }
            },
            "type": "barpolar"
           }
          ],
          "carpet": [
           {
            "aaxis": {
             "endlinecolor": "#2a3f5f",
             "gridcolor": "#C8D4E3",
             "linecolor": "#C8D4E3",
             "minorgridcolor": "#C8D4E3",
             "startlinecolor": "#2a3f5f"
            },
            "baxis": {
             "endlinecolor": "#2a3f5f",
             "gridcolor": "#C8D4E3",
             "linecolor": "#C8D4E3",
             "minorgridcolor": "#C8D4E3",
             "startlinecolor": "#2a3f5f"
            },
            "type": "carpet"
           }
          ],
          "choropleth": [
           {
            "colorbar": {
             "outlinewidth": 0,
             "ticks": ""
            },
            "type": "choropleth"
           }
          ],
          "contour": [
           {
            "colorbar": {
             "outlinewidth": 0,
             "ticks": ""
            },
            "colorscale": [
             [
              0,
              "#0d0887"
             ],
             [
              0.1111111111111111,
              "#46039f"
             ],
             [
              0.2222222222222222,
              "#7201a8"
             ],
             [
              0.3333333333333333,
              "#9c179e"
             ],
             [
              0.4444444444444444,
              "#bd3786"
             ],
             [
              0.5555555555555556,
              "#d8576b"
             ],
             [
              0.6666666666666666,
              "#ed7953"
             ],
             [
              0.7777777777777778,
              "#fb9f3a"
             ],
             [
              0.8888888888888888,
              "#fdca26"
             ],
             [
              1,
              "#f0f921"
             ]
            ],
            "type": "contour"
           }
          ],
          "contourcarpet": [
           {
            "colorbar": {
             "outlinewidth": 0,
             "ticks": ""
            },
            "type": "contourcarpet"
           }
          ],
          "heatmap": [
           {
            "colorbar": {
             "outlinewidth": 0,
             "ticks": ""
            },
            "colorscale": [
             [
              0,
              "#0d0887"
             ],
             [
              0.1111111111111111,
              "#46039f"
             ],
             [
              0.2222222222222222,
              "#7201a8"
             ],
             [
              0.3333333333333333,
              "#9c179e"
             ],
             [
              0.4444444444444444,
              "#bd3786"
             ],
             [
              0.5555555555555556,
              "#d8576b"
             ],
             [
              0.6666666666666666,
              "#ed7953"
             ],
             [
              0.7777777777777778,
              "#fb9f3a"
             ],
             [
              0.8888888888888888,
              "#fdca26"
             ],
             [
              1,
              "#f0f921"
             ]
            ],
            "type": "heatmap"
           }
          ],
          "heatmapgl": [
           {
            "colorbar": {
             "outlinewidth": 0,
             "ticks": ""
            },
            "colorscale": [
             [
              0,
              "#0d0887"
             ],
             [
              0.1111111111111111,
              "#46039f"
             ],
             [
              0.2222222222222222,
              "#7201a8"
             ],
             [
              0.3333333333333333,
              "#9c179e"
             ],
             [
              0.4444444444444444,
              "#bd3786"
             ],
             [
              0.5555555555555556,
              "#d8576b"
             ],
             [
              0.6666666666666666,
              "#ed7953"
             ],
             [
              0.7777777777777778,
              "#fb9f3a"
             ],
             [
              0.8888888888888888,
              "#fdca26"
             ],
             [
              1,
              "#f0f921"
             ]
            ],
            "type": "heatmapgl"
           }
          ],
          "histogram": [
           {
            "marker": {
             "pattern": {
              "fillmode": "overlay",
              "size": 10,
              "solidity": 0.2
             }
            },
            "type": "histogram"
           }
          ],
          "histogram2d": [
           {
            "colorbar": {
             "outlinewidth": 0,
             "ticks": ""
            },
            "colorscale": [
             [
              0,
              "#0d0887"
             ],
             [
              0.1111111111111111,
              "#46039f"
             ],
             [
              0.2222222222222222,
              "#7201a8"
             ],
             [
              0.3333333333333333,
              "#9c179e"
             ],
             [
              0.4444444444444444,
              "#bd3786"
             ],
             [
              0.5555555555555556,
              "#d8576b"
             ],
             [
              0.6666666666666666,
              "#ed7953"
             ],
             [
              0.7777777777777778,
              "#fb9f3a"
             ],
             [
              0.8888888888888888,
              "#fdca26"
             ],
             [
              1,
              "#f0f921"
             ]
            ],
            "type": "histogram2d"
           }
          ],
          "histogram2dcontour": [
           {
            "colorbar": {
             "outlinewidth": 0,
             "ticks": ""
            },
            "colorscale": [
             [
              0,
              "#0d0887"
             ],
             [
              0.1111111111111111,
              "#46039f"
             ],
             [
              0.2222222222222222,
              "#7201a8"
             ],
             [
              0.3333333333333333,
              "#9c179e"
             ],
             [
              0.4444444444444444,
              "#bd3786"
             ],
             [
              0.5555555555555556,
              "#d8576b"
             ],
             [
              0.6666666666666666,
              "#ed7953"
             ],
             [
              0.7777777777777778,
              "#fb9f3a"
             ],
             [
              0.8888888888888888,
              "#fdca26"
             ],
             [
              1,
              "#f0f921"
             ]
            ],
            "type": "histogram2dcontour"
           }
          ],
          "mesh3d": [
           {
            "colorbar": {
             "outlinewidth": 0,
             "ticks": ""
            },
            "type": "mesh3d"
           }
          ],
          "parcoords": [
           {
            "line": {
             "colorbar": {
              "outlinewidth": 0,
              "ticks": ""
             }
            },
            "type": "parcoords"
           }
          ],
          "pie": [
           {
            "automargin": true,
            "type": "pie"
           }
          ],
          "scatter": [
           {
            "fillpattern": {
             "fillmode": "overlay",
             "size": 10,
             "solidity": 0.2
            },
            "type": "scatter"
           }
          ],
          "scatter3d": [
           {
            "line": {
             "colorbar": {
              "outlinewidth": 0,
              "ticks": ""
             }
            },
            "marker": {
             "colorbar": {
              "outlinewidth": 0,
              "ticks": ""
             }
            },
            "type": "scatter3d"
           }
          ],
          "scattercarpet": [
           {
            "marker": {
             "colorbar": {
              "outlinewidth": 0,
              "ticks": ""
             }
            },
            "type": "scattercarpet"
           }
          ],
          "scattergeo": [
           {
            "marker": {
             "colorbar": {
              "outlinewidth": 0,
              "ticks": ""
             }
            },
            "type": "scattergeo"
           }
          ],
          "scattergl": [
           {
            "marker": {
             "colorbar": {
              "outlinewidth": 0,
              "ticks": ""
             }
            },
            "type": "scattergl"
           }
          ],
          "scattermapbox": [
           {
            "marker": {
             "colorbar": {
              "outlinewidth": 0,
              "ticks": ""
             }
            },
            "type": "scattermapbox"
           }
          ],
          "scatterpolar": [
           {
            "marker": {
             "colorbar": {
              "outlinewidth": 0,
              "ticks": ""
             }
            },
            "type": "scatterpolar"
           }
          ],
          "scatterpolargl": [
           {
            "marker": {
             "colorbar": {
              "outlinewidth": 0,
              "ticks": ""
             }
            },
            "type": "scatterpolargl"
           }
          ],
          "scatterternary": [
           {
            "marker": {
             "colorbar": {
              "outlinewidth": 0,
              "ticks": ""
             }
            },
            "type": "scatterternary"
           }
          ],
          "surface": [
           {
            "colorbar": {
             "outlinewidth": 0,
             "ticks": ""
            },
            "colorscale": [
             [
              0,
              "#0d0887"
             ],
             [
              0.1111111111111111,
              "#46039f"
             ],
             [
              0.2222222222222222,
              "#7201a8"
             ],
             [
              0.3333333333333333,
              "#9c179e"
             ],
             [
              0.4444444444444444,
              "#bd3786"
             ],
             [
              0.5555555555555556,
              "#d8576b"
             ],
             [
              0.6666666666666666,
              "#ed7953"
             ],
             [
              0.7777777777777778,
              "#fb9f3a"
             ],
             [
              0.8888888888888888,
              "#fdca26"
             ],
             [
              1,
              "#f0f921"
             ]
            ],
            "type": "surface"
           }
          ],
          "table": [
           {
            "cells": {
             "fill": {
              "color": "#EBF0F8"
             },
             "line": {
              "color": "white"
             }
            },
            "header": {
             "fill": {
              "color": "#C8D4E3"
             },
             "line": {
              "color": "white"
             }
            },
            "type": "table"
           }
          ]
         },
         "layout": {
          "annotationdefaults": {
           "arrowcolor": "#2a3f5f",
           "arrowhead": 0,
           "arrowwidth": 1
          },
          "autotypenumbers": "strict",
          "coloraxis": {
           "colorbar": {
            "outlinewidth": 0,
            "ticks": ""
           }
          },
          "colorscale": {
           "diverging": [
            [
             0,
             "#8e0152"
            ],
            [
             0.1,
             "#c51b7d"
            ],
            [
             0.2,
             "#de77ae"
            ],
            [
             0.3,
             "#f1b6da"
            ],
            [
             0.4,
             "#fde0ef"
            ],
            [
             0.5,
             "#f7f7f7"
            ],
            [
             0.6,
             "#e6f5d0"
            ],
            [
             0.7,
             "#b8e186"
            ],
            [
             0.8,
             "#7fbc41"
            ],
            [
             0.9,
             "#4d9221"
            ],
            [
             1,
             "#276419"
            ]
           ],
           "sequential": [
            [
             0,
             "#0d0887"
            ],
            [
             0.1111111111111111,
             "#46039f"
            ],
            [
             0.2222222222222222,
             "#7201a8"
            ],
            [
             0.3333333333333333,
             "#9c179e"
            ],
            [
             0.4444444444444444,
             "#bd3786"
            ],
            [
             0.5555555555555556,
             "#d8576b"
            ],
            [
             0.6666666666666666,
             "#ed7953"
            ],
            [
             0.7777777777777778,
             "#fb9f3a"
            ],
            [
             0.8888888888888888,
             "#fdca26"
            ],
            [
             1,
             "#f0f921"
            ]
           ],
           "sequentialminus": [
            [
             0,
             "#0d0887"
            ],
            [
             0.1111111111111111,
             "#46039f"
            ],
            [
             0.2222222222222222,
             "#7201a8"
            ],
            [
             0.3333333333333333,
             "#9c179e"
            ],
            [
             0.4444444444444444,
             "#bd3786"
            ],
            [
             0.5555555555555556,
             "#d8576b"
            ],
            [
             0.6666666666666666,
             "#ed7953"
            ],
            [
             0.7777777777777778,
             "#fb9f3a"
            ],
            [
             0.8888888888888888,
             "#fdca26"
            ],
            [
             1,
             "#f0f921"
            ]
           ]
          },
          "colorway": [
           "#636efa",
           "#EF553B",
           "#00cc96",
           "#ab63fa",
           "#FFA15A",
           "#19d3f3",
           "#FF6692",
           "#B6E880",
           "#FF97FF",
           "#FECB52"
          ],
          "font": {
           "color": "#2a3f5f"
          },
          "geo": {
           "bgcolor": "white",
           "lakecolor": "white",
           "landcolor": "white",
           "showlakes": true,
           "showland": true,
           "subunitcolor": "#C8D4E3"
          },
          "hoverlabel": {
           "align": "left"
          },
          "hovermode": "closest",
          "mapbox": {
           "style": "light"
          },
          "paper_bgcolor": "white",
          "plot_bgcolor": "white",
          "polar": {
           "angularaxis": {
            "gridcolor": "#EBF0F8",
            "linecolor": "#EBF0F8",
            "ticks": ""
           },
           "bgcolor": "white",
           "radialaxis": {
            "gridcolor": "#EBF0F8",
            "linecolor": "#EBF0F8",
            "ticks": ""
           }
          },
          "scene": {
           "xaxis": {
            "backgroundcolor": "white",
            "gridcolor": "#DFE8F3",
            "gridwidth": 2,
            "linecolor": "#EBF0F8",
            "showbackground": true,
            "ticks": "",
            "zerolinecolor": "#EBF0F8"
           },
           "yaxis": {
            "backgroundcolor": "white",
            "gridcolor": "#DFE8F3",
            "gridwidth": 2,
            "linecolor": "#EBF0F8",
            "showbackground": true,
            "ticks": "",
            "zerolinecolor": "#EBF0F8"
           },
           "zaxis": {
            "backgroundcolor": "white",
            "gridcolor": "#DFE8F3",
            "gridwidth": 2,
            "linecolor": "#EBF0F8",
            "showbackground": true,
            "ticks": "",
            "zerolinecolor": "#EBF0F8"
           }
          },
          "shapedefaults": {
           "line": {
            "color": "#2a3f5f"
           }
          },
          "ternary": {
           "aaxis": {
            "gridcolor": "#DFE8F3",
            "linecolor": "#A2B1C6",
            "ticks": ""
           },
           "baxis": {
            "gridcolor": "#DFE8F3",
            "linecolor": "#A2B1C6",
            "ticks": ""
           },
           "bgcolor": "white",
           "caxis": {
            "gridcolor": "#DFE8F3",
            "linecolor": "#A2B1C6",
            "ticks": ""
           }
          },
          "title": {
           "x": 0.05
          },
          "xaxis": {
           "automargin": true,
           "gridcolor": "#EBF0F8",
           "linecolor": "#EBF0F8",
           "ticks": "",
           "title": {
            "standoff": 15
           },
           "zerolinecolor": "#EBF0F8",
           "zerolinewidth": 2
          },
          "yaxis": {
           "automargin": true,
           "gridcolor": "#EBF0F8",
           "linecolor": "#EBF0F8",
           "ticks": "",
           "title": {
            "standoff": 15
           },
           "zerolinecolor": "#EBF0F8",
           "zerolinewidth": 2
          }
         }
        },
        "title": {
         "text": "Forwards Points Breakdown Comparison"
        },
        "xaxis": {
         "title": {
          "text": "Stats"
         }
        },
        "yaxis": {
         "title": {
          "text": "Percent of Points"
         }
        }
       }
      }
     },
     "metadata": {},
     "output_type": "display_data"
    }
   ],
   "source": [
    "trace1 = go.Bar(\n",
    "    x=top_fwd_percent.index,\n",
    "    y=top_fwd_percent.values,\n",
    "    name='Top Forwards',\n",
    "    marker_color='blue',\n",
    "    text=top_fwd_percent.values.round(1)\n",
    ")\n",
    "\n",
    "trace2 = go.Bar(\n",
    "    x=rest_fwd_percent.index,\n",
    "    y=rest_fwd_percent.values,\n",
    "    name='Rest of Forwards',\n",
    "    marker_color='red',\n",
    "    text=rest_fwd_percent.values.round(1)\n",
    ")\n",
    "\n",
    "fig = go.Figure(data=[trace1, trace2])\n",
    "\n",
    "fig.update_layout(\n",
    "    barmode='group',\n",
    "    title_text='Forwards Points Breakdown Comparison',\n",
    "    xaxis_title='Stats',\n",
    "    yaxis_title='Percent of Points',\n",
    "    legend={'orientation': 'h', 'yanchor': 'top', 'y': 10},\n",
    "    template='plotly_white'\n",
    ")\n",
    "\n",
    "fig.show()"
   ]
  },
  {
   "cell_type": "markdown",
   "metadata": {},
   "source": [
    "With attackers, it's similar as it is with midfielders. Looking for forwards that can provide goal contributions, especially score goals, is what will bring the most points."
   ]
  },
  {
   "cell_type": "markdown",
   "metadata": {},
   "source": [
    "Now when there is a breakdown of what type of players to look for at each position, next step is to understand where the budget can be saved when looking for the desired types of players."
   ]
  },
  {
   "cell_type": "markdown",
   "metadata": {},
   "source": [
    "### 3. Cost Analysis"
   ]
  },
  {
   "cell_type": "markdown",
   "metadata": {},
   "source": [
    "Since there are budgetary restrictions when assembling a team, it's important to find value in cheaper players who bring large amount of points. Looking at the scatter charts of player's cost and their total points will help in determining where players could spend less without losing out on points."
   ]
  },
  {
   "cell_type": "code",
   "execution_count": 39,
   "metadata": {},
   "outputs": [
    {
     "data": {
      "application/vnd.plotly.v1+json": {
       "config": {
        "plotlyServerURL": "https://plot.ly"
       },
       "data": [
        {
         "hovertemplate": "Position=FWD<br>Cost=%{x}<br>Total Points=%{y}<extra></extra>",
         "legendgroup": "FWD",
         "marker": {
          "color": "#636efa",
          "symbol": "circle"
         },
         "mode": "markers",
         "name": "FWD",
         "orientation": "v",
         "showlegend": true,
         "type": "scatter",
         "x": [
          4.4,
          7.7,
          5,
          4.9,
          5,
          8.9,
          5,
          4.6,
          4.5,
          6.9,
          5,
          4.5,
          7.7,
          5.7,
          4.9,
          4.5,
          5.7,
          5.2,
          5.5,
          5.7,
          4.4,
          4.5,
          4.7,
          4.9,
          5.3,
          5.5,
          5,
          5.1,
          6.5,
          6.8,
          7,
          7.2,
          4.5,
          4.5,
          4.5,
          4.5,
          5.3,
          5.1,
          4.5,
          4.5,
          4.5,
          4.5,
          5.8,
          4.5,
          4.8,
          4.5,
          5.7,
          4.9,
          7.4,
          4.3,
          4.5,
          5,
          4.5,
          7.5,
          7.1,
          4.5,
          4.3,
          4.8,
          4.5,
          4.7,
          4.5,
          4.8,
          4.5,
          4.5,
          4.3,
          4.9,
          4.5,
          6.4,
          14.3,
          6.4,
          4.4,
          7.1,
          4.5,
          4.5,
          8.4,
          7.8,
          4.5,
          4.4,
          6.3,
          4.8,
          4.5,
          4.4,
          4.7,
          5,
          4.5,
          4.5,
          4.5,
          4.2,
          4.9,
          4.8,
          5.4,
          5.5,
          4.2,
          5.1,
          4.5,
          4.4,
          4.5,
          12.5,
          4.5,
          5.4,
          4.5,
          6.3,
          5.7,
          5.5,
          4.1,
          6,
          4.5,
          5.2,
          4.9,
          5.5,
          4.5,
          4.5,
          4.5
         ],
         "xaxis": "x",
         "y": [
          0,
          85,
          71,
          0,
          50,
          228,
          0,
          14,
          107,
          175,
          40,
          0,
          57,
          131,
          76,
          0,
          69,
          104,
          0,
          79,
          0,
          2,
          75,
          2,
          41,
          0,
          50,
          85,
          0,
          0,
          142,
          29,
          2,
          2,
          0,
          0,
          79,
          165,
          0,
          0,
          0,
          0,
          101,
          0,
          16,
          1,
          50,
          35,
          1,
          97,
          22,
          72,
          0,
          132,
          106,
          0,
          1,
          94,
          0,
          146,
          0,
          84,
          0,
          0,
          33,
          39,
          0,
          158,
          217,
          25,
          0,
          112,
          0,
          3,
          172,
          69,
          1,
          1,
          67,
          0,
          0,
          0,
          131,
          25,
          0,
          0,
          4,
          82,
          11,
          1,
          66,
          0,
          25,
          11,
          0,
          2,
          0,
          0,
          4,
          11,
          2,
          46,
          78,
          36,
          5,
          0,
          0,
          8,
          24,
          135,
          7,
          5,
          0
         ],
         "yaxis": "y"
        },
        {
         "hovertemplate": "Position=DEF<br>Cost=%{x}<br>Total Points=%{y}<extra></extra>",
         "legendgroup": "DEF",
         "marker": {
          "color": "#EF553B",
          "symbol": "circle"
         },
         "mode": "markers",
         "name": "DEF",
         "orientation": "v",
         "showlegend": true,
         "type": "scatter",
         "x": [
          3.8,
          5.4,
          4,
          5.9,
          4.4,
          4.5,
          6.1,
          5,
          4.6,
          4,
          4,
          4.9,
          4.5,
          3.8,
          4.4,
          4.6,
          3.9,
          4.5,
          4.1,
          4.6,
          4.5,
          4,
          4,
          4.3,
          4,
          4.5,
          4.3,
          4.4,
          4.4,
          4.4,
          4.4,
          4,
          4.4,
          4,
          4.4,
          4,
          4.5,
          3.9,
          4.2,
          4.3,
          4.7,
          4.5,
          4.4,
          4.3,
          4.5,
          4,
          4,
          4,
          4,
          5.2,
          4.7,
          4,
          3.9,
          4,
          4.3,
          4.2,
          4.3,
          4,
          4,
          4,
          4,
          4,
          3.8,
          3.9,
          3.9,
          3.9,
          4,
          4.4,
          4.3,
          3.9,
          4,
          4.4,
          4,
          4,
          4,
          4,
          4,
          4.5,
          4,
          4.4,
          4.3,
          5.4,
          4.6,
          4.9,
          4.4,
          4.3,
          5.3,
          4.3,
          5,
          4.9,
          4,
          4,
          4,
          4,
          4,
          4,
          4.3,
          4.7,
          4.3,
          4.2,
          4.5,
          4,
          3.9,
          3.9,
          4.5,
          4,
          4.5,
          4.5,
          4.4,
          4.3,
          4.2,
          4.5,
          4.3,
          4.6,
          4.4,
          4,
          4.4,
          4,
          4,
          4.4,
          4.5,
          4.4,
          4.3,
          4.4,
          3.9,
          4.5,
          4.5,
          4,
          8.4,
          4.5,
          4.9,
          4.8,
          4,
          6.5,
          4.3,
          4,
          6.6,
          4,
          4,
          3.9,
          4.1,
          4.5,
          4,
          3.8,
          3.8,
          4,
          4.3,
          4.4,
          3.9,
          3.9,
          4.2,
          4.2,
          4,
          4,
          4,
          4,
          4,
          5,
          5,
          5.8,
          5.5,
          4.9,
          4.2,
          3.8,
          5.3,
          5.5,
          5.2,
          4.5,
          4,
          4,
          5.2,
          4,
          4.5,
          4.3,
          4.3,
          4.7,
          4.9,
          5.2,
          4.4,
          4,
          3.9,
          4,
          4,
          4,
          4,
          4.2,
          4,
          4.5,
          4.7,
          4.4,
          3.7,
          4,
          4,
          5.6,
          4.2,
          6.6,
          4,
          3.9,
          4,
          3.9,
          4,
          4.5,
          3.9,
          4.5,
          4.5,
          4,
          4.4,
          4.5,
          4,
          4.4,
          4.5,
          4,
          4.4,
          4.4,
          4.3,
          4.3,
          4.5,
          3.9,
          4.4,
          4.5,
          4.5,
          3.9,
          4,
          4.3,
          3.8,
          3.9,
          4.5,
          4.2,
          4.3,
          3.9,
          4.3,
          4.3,
          3.9,
          4,
          4,
          4,
          4,
          4.3,
          4.2,
          4.3,
          5.9,
          4.7,
          4,
          5.1,
          4.4,
          4.4,
          4,
          4,
          4.9,
          4.4,
          4,
          4,
          4.2,
          4.4,
          4.5,
          4.2,
          4.3,
          4.4,
          4.2,
          4.5,
          4.2,
          4.5,
          4,
          4,
          4.6,
          4,
          4.4,
          4.5,
          4,
          4.3,
          4.4,
          4.5,
          4.4,
          4.3,
          4.5,
          4,
          4,
          4
         ],
         "xaxis": "x",
         "y": [
          3,
          149,
          67,
          164,
          0,
          70,
          182,
          104,
          0,
          0,
          0,
          49,
          64,
          6,
          55,
          85,
          0,
          91,
          0,
          85,
          24,
          3,
          1,
          0,
          5,
          48,
          16,
          102,
          80,
          84,
          59,
          0,
          28,
          0,
          68,
          0,
          84,
          0,
          13,
          17,
          39,
          77,
          75,
          29,
          74,
          0,
          0,
          0,
          0,
          89,
          57,
          0,
          31,
          61,
          49,
          26,
          37,
          0,
          0,
          5,
          4,
          0,
          19,
          30,
          0,
          15,
          0,
          69,
          12,
          47,
          0,
          60,
          0,
          7,
          25,
          15,
          0,
          0,
          0,
          35,
          39,
          24,
          65,
          44,
          0,
          74,
          11,
          0,
          98,
          71,
          0,
          20,
          0,
          0,
          1,
          0,
          0,
          121,
          52,
          66,
          119,
          0,
          62,
          3,
          54,
          0,
          56,
          124,
          30,
          37,
          18,
          101,
          34,
          117,
          76,
          0,
          43,
          0,
          0,
          40,
          104,
          27,
          66,
          66,
          0,
          105,
          5,
          0,
          122,
          76,
          56,
          21,
          0,
          76,
          48,
          0,
          117,
          49,
          0,
          0,
          50,
          1,
          0,
          15,
          35,
          40,
          101,
          41,
          0,
          42,
          11,
          23,
          34,
          0,
          0,
          4,
          0,
          112,
          99,
          0,
          88,
          1,
          52,
          9,
          53,
          123,
          123,
          0,
          0,
          0,
          111,
          0,
          62,
          73,
          0,
          15,
          44,
          31,
          47,
          49,
          5,
          0,
          0,
          0,
          0,
          38,
          0,
          51,
          97,
          33,
          46,
          0,
          0,
          123,
          2,
          111,
          0,
          5,
          45,
          2,
          11,
          27,
          0,
          58,
          0,
          0,
          7,
          0,
          0,
          12,
          29,
          0,
          0,
          52,
          39,
          13,
          45,
          0,
          28,
          58,
          11,
          28,
          1,
          31,
          21,
          8,
          63,
          1,
          13,
          2,
          33,
          10,
          0,
          7,
          0,
          0,
          1,
          34,
          2,
          27,
          136,
          6,
          0,
          107,
          0,
          0,
          0,
          0,
          79,
          81,
          0,
          0,
          14,
          36,
          85,
          10,
          82,
          17,
          2,
          76,
          19,
          40,
          1,
          0,
          77,
          0,
          29,
          69,
          0,
          1,
          82,
          63,
          82,
          41,
          13,
          0,
          0,
          0
         ],
         "yaxis": "y"
        },
        {
         "hovertemplate": "Position=MID<br>Cost=%{x}<br>Total Points=%{y}<extra></extra>",
         "legendgroup": "MID",
         "marker": {
          "color": "#00cc96",
          "symbol": "circle"
         },
         "mode": "markers",
         "name": "MID",
         "orientation": "v",
         "showlegend": true,
         "type": "scatter",
         "x": [
          4.4,
          5.4,
          7.6,
          5.3,
          4.5,
          7.5,
          8.6,
          4.8,
          4.9,
          8.8,
          5.3,
          6.6,
          6,
          5.5,
          4.8,
          4.5,
          4.5,
          4.5,
          4.5,
          4.5,
          5.4,
          5.7,
          5.8,
          4.9,
          5.4,
          4.4,
          5,
          5.3,
          4.5,
          5.9,
          4.5,
          5.6,
          5,
          6.3,
          4.5,
          5.4,
          4.5,
          5,
          4.5,
          4.9,
          5.1,
          4.7,
          5,
          4.8,
          4.5,
          4.3,
          4.6,
          4.9,
          4.3,
          4.7,
          4.5,
          4.8,
          5,
          4.7,
          4.9,
          4.9,
          5.5,
          5,
          4.5,
          4.5,
          4.3,
          4.5,
          5,
          4.8,
          4.7,
          5.2,
          5.2,
          4.7,
          6.8,
          5.2,
          4.9,
          5.2,
          4.5,
          4.2,
          4.5,
          4.5,
          4.5,
          4.5,
          4.5,
          5,
          4.4,
          4.5,
          4.7,
          4.8,
          5,
          4.8,
          6.1,
          4.5,
          4.9,
          6.1,
          4.8,
          6.4,
          4.4,
          4.5,
          4.5,
          4.5,
          6.4,
          4.5,
          4.4,
          4.5,
          4.5,
          4.5,
          4.2,
          4.9,
          5.2,
          4.7,
          4.4,
          4.8,
          4.5,
          5,
          4.8,
          4.9,
          4.6,
          4.6,
          4.7,
          4.8,
          4.8,
          5,
          5,
          4.9,
          5.2,
          4.5,
          4.2,
          4.2,
          4.8,
          5.4,
          5.3,
          6.3,
          5.5,
          6.8,
          5.4,
          6.3,
          5,
          5.1,
          4.4,
          4.9,
          4.5,
          4.5,
          4.5,
          4.5,
          4.5,
          4.5,
          4.5,
          4.3,
          5.3,
          4.8,
          4.4,
          6,
          4.9,
          4.7,
          5.7,
          4.3,
          4.8,
          4.8,
          4.5,
          4.5,
          4.5,
          5,
          4.5,
          4.4,
          4.4,
          4.8,
          5.5,
          4.9,
          4.4,
          5.3,
          4.8,
          5.4,
          4.7,
          5.2,
          4.5,
          4.4,
          5.5,
          4.5,
          4.5,
          4.5,
          5.3,
          5.3,
          4.9,
          5,
          5.2,
          4.4,
          4.4,
          4.3,
          5,
          4.3,
          5.3,
          5.3,
          4.5,
          4.9,
          4.5,
          4.4,
          4.5,
          4.7,
          7.9,
          4.8,
          5,
          5,
          4.9,
          7.6,
          5.9,
          13.4,
          7.1,
          4.7,
          4.4,
          4.3,
          4.4,
          5.4,
          5,
          4.5,
          4.5,
          4.9,
          4.3,
          4.6,
          4.9,
          4.8,
          4.9,
          4.5,
          5,
          4.4,
          4.4,
          4.5,
          4.4,
          4.6,
          4.4,
          4.5,
          5,
          4.5,
          4.5,
          4.5,
          4.5,
          6.2,
          4.4,
          4.5,
          10.6,
          8.5,
          7.2,
          4.6,
          7.5,
          4.4,
          5.6,
          4.7,
          6.4,
          4.5,
          4.5,
          4.5,
          6.8,
          4.4,
          6.8,
          8.5,
          5.3,
          5.8,
          5,
          5,
          4.3,
          4.4,
          4.5,
          4.2,
          8.4,
          6.7,
          4.7,
          4.4,
          4.5,
          5,
          4.5,
          6,
          4.2,
          5.8,
          4.9,
          6.4,
          4.4,
          4.4,
          5.8,
          4.5,
          4.8,
          4.8,
          4.3,
          6,
          5.2,
          5.3,
          6.2,
          4.5,
          4.5,
          4.5,
          4.5,
          4.7,
          4.9,
          4.5,
          4.3,
          4.5,
          5.3,
          4.9,
          5.7,
          4.8,
          5,
          4.4,
          4.9,
          4.5,
          4.5,
          4.8,
          4.8,
          5,
          4.9,
          4.5,
          4.6,
          4.4,
          4.4,
          4.9,
          4.8,
          4.8,
          4.7,
          5,
          4.4,
          4.9,
          5,
          4.4,
          4.4,
          5,
          4.5,
          4.5,
          5.8,
          5.4,
          5,
          4.9,
          5.1,
          6.7,
          4.8,
          7.8,
          4.4,
          6.8,
          4.4,
          4.5,
          10,
          5.1,
          4.5,
          4.5,
          4.5,
          4.7,
          5.6,
          7.6,
          5.2,
          4.3,
          5,
          4.6,
          6,
          4.9,
          4.5,
          5,
          5.7,
          6.7,
          4.5,
          4.5,
          4.4,
          4.5,
          4.5,
          5.4,
          4.4,
          5.4,
          4.9,
          4.3,
          4.9,
          5.5,
          5.3,
          4.5,
          4.3,
          5,
          4.9,
          4.5,
          4.4,
          4.5,
          4.5,
          4.5,
          5,
          4.5
         ],
         "xaxis": "x",
         "y": [
          6,
          24,
          180,
          44,
          0,
          118,
          186,
          24,
          0,
          226,
          25,
          138,
          0,
          165,
          16,
          0,
          0,
          0,
          1,
          0,
          148,
          0,
          2,
          20,
          148,
          10,
          40,
          119,
          1,
          29,
          0,
          77,
          2,
          142,
          2,
          34,
          0,
          35,
          0,
          3,
          60,
          23,
          90,
          77,
          0,
          0,
          100,
          0,
          0,
          56,
          0,
          13,
          89,
          3,
          41,
          5,
          43,
          4,
          1,
          0,
          19,
          0,
          0,
          45,
          3,
          93,
          98,
          73,
          127,
          74,
          39,
          33,
          0,
          33,
          8,
          0,
          26,
          3,
          0,
          97,
          0,
          0,
          57,
          14,
          20,
          61,
          153,
          0,
          30,
          39,
          28,
          74,
          21,
          0,
          42,
          34,
          33,
          4,
          0,
          0,
          0,
          0,
          0,
          0,
          8,
          78,
          0,
          4,
          0,
          65,
          48,
          0,
          4,
          74,
          11,
          40,
          82,
          82,
          18,
          3,
          20,
          84,
          1,
          16,
          77,
          129,
          76,
          94,
          0,
          123,
          0,
          244,
          0,
          11,
          13,
          1,
          0,
          1,
          0,
          11,
          0,
          1,
          0,
          16,
          109,
          21,
          0,
          136,
          61,
          64,
          125,
          12,
          66,
          16,
          8,
          8,
          0,
          50,
          0,
          0,
          20,
          0,
          116,
          87,
          0,
          0,
          73,
          124,
          66,
          26,
          18,
          1,
          92,
          0,
          0,
          1,
          102,
          127,
          70,
          0,
          92,
          0,
          0,
          43,
          91,
          47,
          94,
          94,
          0,
          36,
          2,
          0,
          0,
          1,
          110,
          96,
          0,
          0,
          40,
          142,
          109,
          211,
          99,
          1,
          5,
          1,
          3,
          47,
          45,
          0,
          1,
          47,
          21,
          31,
          0,
          44,
          0,
          0,
          11,
          0,
          0,
          0,
          0,
          35,
          78,
          101,
          61,
          0,
          2,
          0,
          0,
          141,
          30,
          0,
          98,
          230,
          50,
          59,
          0,
          0,
          159,
          32,
          98,
          0,
          0,
          0,
          23,
          23,
          47,
          166,
          58,
          48,
          0,
          131,
          11,
          77,
          98,
          13,
          108,
          3,
          1,
          7,
          1,
          26,
          0,
          77,
          42,
          153,
          0,
          183,
          0,
          0,
          45,
          0,
          110,
          82,
          17,
          0,
          16,
          18,
          64,
          44,
          1,
          3,
          0,
          109,
          119,
          1,
          0,
          0,
          65,
          0,
          142,
          12,
          40,
          0,
          0,
          0,
          0,
          0,
          59,
          67,
          25,
          0,
          13,
          77,
          0,
          3,
          42,
          38,
          14,
          73,
          26,
          108,
          7,
          1,
          1,
          62,
          19,
          0,
          131,
          32,
          44,
          12,
          39,
          130,
          47,
          117,
          0,
          122,
          86,
          22,
          213,
          14,
          0,
          2,
          0,
          10,
          20,
          182,
          13,
          0,
          0,
          19,
          100,
          116,
          0,
          62,
          146,
          137,
          0,
          8,
          38,
          0,
          0,
          0,
          0,
          125,
          75,
          0,
          95,
          86,
          0,
          99,
          25,
          1,
          45,
          0,
          8,
          0,
          0,
          0,
          0,
          0
         ],
         "yaxis": "y"
        },
        {
         "hovertemplate": "Position=GK<br>Cost=%{x}<br>Total Points=%{y}<extra></extra>",
         "legendgroup": "GK",
         "marker": {
          "color": "#ab63fa",
          "symbol": "circle"
         },
         "mode": "markers",
         "name": "GK",
         "orientation": "v",
         "showlegend": true,
         "type": "scatter",
         "x": [
          4.5,
          4,
          5.3,
          4,
          5.2,
          3.9,
          4,
          4,
          4,
          4,
          4,
          3.9,
          4,
          4.6,
          3.9,
          4,
          4.3,
          4,
          3.9,
          4,
          4.7,
          3.9,
          4,
          4,
          3.9,
          4,
          4,
          4.4,
          3.9,
          4.3,
          4,
          3.9,
          4.4,
          4.5,
          5,
          4,
          4,
          3.9,
          4,
          4.7,
          4,
          4,
          4.4,
          4.3,
          3.9,
          3.9,
          4.4,
          4.8,
          3.9,
          3.9,
          4,
          4.8,
          3.9,
          4,
          3.8,
          5.7,
          3.6,
          4,
          4,
          4,
          4.2,
          4,
          4.5,
          4.4,
          3.8,
          5.5,
          3.6,
          3.9,
          3.9,
          5,
          4,
          3.9,
          4,
          4,
          4.3,
          3.9,
          5.3,
          3.9,
          3.7,
          3.9,
          4.3,
          3.9,
          4.5,
          4.5,
          3.9,
          4,
          4.4,
          4.5,
          3.9,
          3.8,
          4.7,
          5.3,
          3.9,
          4.2,
          4.2,
          4,
          3.9,
          3.9,
          5,
          4
         ],
         "xaxis": "x",
         "y": [
          20,
          0,
          135,
          0,
          115,
          17,
          0,
          0,
          0,
          0,
          0,
          0,
          0,
          110,
          0,
          19,
          2,
          0,
          0,
          0,
          119,
          4,
          0,
          0,
          0,
          0,
          42,
          68,
          0,
          47,
          0,
          0,
          70,
          59,
          0,
          -1,
          0,
          0,
          0,
          71,
          0,
          0,
          0,
          68,
          1,
          0,
          48,
          153,
          0,
          0,
          0,
          133,
          -1,
          0,
          0,
          107,
          34,
          0,
          0,
          0,
          1,
          0,
          86,
          0,
          0,
          112,
          22,
          0,
          0,
          133,
          0,
          0,
          0,
          0,
          75,
          0,
          57,
          1,
          41,
          0,
          0,
          0,
          12,
          34,
          0,
          0,
          70,
          15,
          0,
          0,
          0,
          112,
          0,
          116,
          24,
          0,
          18,
          0,
          107,
          0
         ],
         "yaxis": "y"
        }
       ],
       "layout": {
        "legend": {
         "orientation": "h",
         "title": {
          "text": "Position"
         },
         "tracegroupgap": 0,
         "y": 10,
         "yanchor": "top"
        },
        "template": {
         "data": {
          "bar": [
           {
            "error_x": {
             "color": "#2a3f5f"
            },
            "error_y": {
             "color": "#2a3f5f"
            },
            "marker": {
             "line": {
              "color": "white",
              "width": 0.5
             },
             "pattern": {
              "fillmode": "overlay",
              "size": 10,
              "solidity": 0.2
             }
            },
            "type": "bar"
           }
          ],
          "barpolar": [
           {
            "marker": {
             "line": {
              "color": "white",
              "width": 0.5
             },
             "pattern": {
              "fillmode": "overlay",
              "size": 10,
              "solidity": 0.2
             }
            },
            "type": "barpolar"
           }
          ],
          "carpet": [
           {
            "aaxis": {
             "endlinecolor": "#2a3f5f",
             "gridcolor": "#C8D4E3",
             "linecolor": "#C8D4E3",
             "minorgridcolor": "#C8D4E3",
             "startlinecolor": "#2a3f5f"
            },
            "baxis": {
             "endlinecolor": "#2a3f5f",
             "gridcolor": "#C8D4E3",
             "linecolor": "#C8D4E3",
             "minorgridcolor": "#C8D4E3",
             "startlinecolor": "#2a3f5f"
            },
            "type": "carpet"
           }
          ],
          "choropleth": [
           {
            "colorbar": {
             "outlinewidth": 0,
             "ticks": ""
            },
            "type": "choropleth"
           }
          ],
          "contour": [
           {
            "colorbar": {
             "outlinewidth": 0,
             "ticks": ""
            },
            "colorscale": [
             [
              0,
              "#0d0887"
             ],
             [
              0.1111111111111111,
              "#46039f"
             ],
             [
              0.2222222222222222,
              "#7201a8"
             ],
             [
              0.3333333333333333,
              "#9c179e"
             ],
             [
              0.4444444444444444,
              "#bd3786"
             ],
             [
              0.5555555555555556,
              "#d8576b"
             ],
             [
              0.6666666666666666,
              "#ed7953"
             ],
             [
              0.7777777777777778,
              "#fb9f3a"
             ],
             [
              0.8888888888888888,
              "#fdca26"
             ],
             [
              1,
              "#f0f921"
             ]
            ],
            "type": "contour"
           }
          ],
          "contourcarpet": [
           {
            "colorbar": {
             "outlinewidth": 0,
             "ticks": ""
            },
            "type": "contourcarpet"
           }
          ],
          "heatmap": [
           {
            "colorbar": {
             "outlinewidth": 0,
             "ticks": ""
            },
            "colorscale": [
             [
              0,
              "#0d0887"
             ],
             [
              0.1111111111111111,
              "#46039f"
             ],
             [
              0.2222222222222222,
              "#7201a8"
             ],
             [
              0.3333333333333333,
              "#9c179e"
             ],
             [
              0.4444444444444444,
              "#bd3786"
             ],
             [
              0.5555555555555556,
              "#d8576b"
             ],
             [
              0.6666666666666666,
              "#ed7953"
             ],
             [
              0.7777777777777778,
              "#fb9f3a"
             ],
             [
              0.8888888888888888,
              "#fdca26"
             ],
             [
              1,
              "#f0f921"
             ]
            ],
            "type": "heatmap"
           }
          ],
          "heatmapgl": [
           {
            "colorbar": {
             "outlinewidth": 0,
             "ticks": ""
            },
            "colorscale": [
             [
              0,
              "#0d0887"
             ],
             [
              0.1111111111111111,
              "#46039f"
             ],
             [
              0.2222222222222222,
              "#7201a8"
             ],
             [
              0.3333333333333333,
              "#9c179e"
             ],
             [
              0.4444444444444444,
              "#bd3786"
             ],
             [
              0.5555555555555556,
              "#d8576b"
             ],
             [
              0.6666666666666666,
              "#ed7953"
             ],
             [
              0.7777777777777778,
              "#fb9f3a"
             ],
             [
              0.8888888888888888,
              "#fdca26"
             ],
             [
              1,
              "#f0f921"
             ]
            ],
            "type": "heatmapgl"
           }
          ],
          "histogram": [
           {
            "marker": {
             "pattern": {
              "fillmode": "overlay",
              "size": 10,
              "solidity": 0.2
             }
            },
            "type": "histogram"
           }
          ],
          "histogram2d": [
           {
            "colorbar": {
             "outlinewidth": 0,
             "ticks": ""
            },
            "colorscale": [
             [
              0,
              "#0d0887"
             ],
             [
              0.1111111111111111,
              "#46039f"
             ],
             [
              0.2222222222222222,
              "#7201a8"
             ],
             [
              0.3333333333333333,
              "#9c179e"
             ],
             [
              0.4444444444444444,
              "#bd3786"
             ],
             [
              0.5555555555555556,
              "#d8576b"
             ],
             [
              0.6666666666666666,
              "#ed7953"
             ],
             [
              0.7777777777777778,
              "#fb9f3a"
             ],
             [
              0.8888888888888888,
              "#fdca26"
             ],
             [
              1,
              "#f0f921"
             ]
            ],
            "type": "histogram2d"
           }
          ],
          "histogram2dcontour": [
           {
            "colorbar": {
             "outlinewidth": 0,
             "ticks": ""
            },
            "colorscale": [
             [
              0,
              "#0d0887"
             ],
             [
              0.1111111111111111,
              "#46039f"
             ],
             [
              0.2222222222222222,
              "#7201a8"
             ],
             [
              0.3333333333333333,
              "#9c179e"
             ],
             [
              0.4444444444444444,
              "#bd3786"
             ],
             [
              0.5555555555555556,
              "#d8576b"
             ],
             [
              0.6666666666666666,
              "#ed7953"
             ],
             [
              0.7777777777777778,
              "#fb9f3a"
             ],
             [
              0.8888888888888888,
              "#fdca26"
             ],
             [
              1,
              "#f0f921"
             ]
            ],
            "type": "histogram2dcontour"
           }
          ],
          "mesh3d": [
           {
            "colorbar": {
             "outlinewidth": 0,
             "ticks": ""
            },
            "type": "mesh3d"
           }
          ],
          "parcoords": [
           {
            "line": {
             "colorbar": {
              "outlinewidth": 0,
              "ticks": ""
             }
            },
            "type": "parcoords"
           }
          ],
          "pie": [
           {
            "automargin": true,
            "type": "pie"
           }
          ],
          "scatter": [
           {
            "fillpattern": {
             "fillmode": "overlay",
             "size": 10,
             "solidity": 0.2
            },
            "type": "scatter"
           }
          ],
          "scatter3d": [
           {
            "line": {
             "colorbar": {
              "outlinewidth": 0,
              "ticks": ""
             }
            },
            "marker": {
             "colorbar": {
              "outlinewidth": 0,
              "ticks": ""
             }
            },
            "type": "scatter3d"
           }
          ],
          "scattercarpet": [
           {
            "marker": {
             "colorbar": {
              "outlinewidth": 0,
              "ticks": ""
             }
            },
            "type": "scattercarpet"
           }
          ],
          "scattergeo": [
           {
            "marker": {
             "colorbar": {
              "outlinewidth": 0,
              "ticks": ""
             }
            },
            "type": "scattergeo"
           }
          ],
          "scattergl": [
           {
            "marker": {
             "colorbar": {
              "outlinewidth": 0,
              "ticks": ""
             }
            },
            "type": "scattergl"
           }
          ],
          "scattermapbox": [
           {
            "marker": {
             "colorbar": {
              "outlinewidth": 0,
              "ticks": ""
             }
            },
            "type": "scattermapbox"
           }
          ],
          "scatterpolar": [
           {
            "marker": {
             "colorbar": {
              "outlinewidth": 0,
              "ticks": ""
             }
            },
            "type": "scatterpolar"
           }
          ],
          "scatterpolargl": [
           {
            "marker": {
             "colorbar": {
              "outlinewidth": 0,
              "ticks": ""
             }
            },
            "type": "scatterpolargl"
           }
          ],
          "scatterternary": [
           {
            "marker": {
             "colorbar": {
              "outlinewidth": 0,
              "ticks": ""
             }
            },
            "type": "scatterternary"
           }
          ],
          "surface": [
           {
            "colorbar": {
             "outlinewidth": 0,
             "ticks": ""
            },
            "colorscale": [
             [
              0,
              "#0d0887"
             ],
             [
              0.1111111111111111,
              "#46039f"
             ],
             [
              0.2222222222222222,
              "#7201a8"
             ],
             [
              0.3333333333333333,
              "#9c179e"
             ],
             [
              0.4444444444444444,
              "#bd3786"
             ],
             [
              0.5555555555555556,
              "#d8576b"
             ],
             [
              0.6666666666666666,
              "#ed7953"
             ],
             [
              0.7777777777777778,
              "#fb9f3a"
             ],
             [
              0.8888888888888888,
              "#fdca26"
             ],
             [
              1,
              "#f0f921"
             ]
            ],
            "type": "surface"
           }
          ],
          "table": [
           {
            "cells": {
             "fill": {
              "color": "#EBF0F8"
             },
             "line": {
              "color": "white"
             }
            },
            "header": {
             "fill": {
              "color": "#C8D4E3"
             },
             "line": {
              "color": "white"
             }
            },
            "type": "table"
           }
          ]
         },
         "layout": {
          "annotationdefaults": {
           "arrowcolor": "#2a3f5f",
           "arrowhead": 0,
           "arrowwidth": 1
          },
          "autotypenumbers": "strict",
          "coloraxis": {
           "colorbar": {
            "outlinewidth": 0,
            "ticks": ""
           }
          },
          "colorscale": {
           "diverging": [
            [
             0,
             "#8e0152"
            ],
            [
             0.1,
             "#c51b7d"
            ],
            [
             0.2,
             "#de77ae"
            ],
            [
             0.3,
             "#f1b6da"
            ],
            [
             0.4,
             "#fde0ef"
            ],
            [
             0.5,
             "#f7f7f7"
            ],
            [
             0.6,
             "#e6f5d0"
            ],
            [
             0.7,
             "#b8e186"
            ],
            [
             0.8,
             "#7fbc41"
            ],
            [
             0.9,
             "#4d9221"
            ],
            [
             1,
             "#276419"
            ]
           ],
           "sequential": [
            [
             0,
             "#0d0887"
            ],
            [
             0.1111111111111111,
             "#46039f"
            ],
            [
             0.2222222222222222,
             "#7201a8"
            ],
            [
             0.3333333333333333,
             "#9c179e"
            ],
            [
             0.4444444444444444,
             "#bd3786"
            ],
            [
             0.5555555555555556,
             "#d8576b"
            ],
            [
             0.6666666666666666,
             "#ed7953"
            ],
            [
             0.7777777777777778,
             "#fb9f3a"
            ],
            [
             0.8888888888888888,
             "#fdca26"
            ],
            [
             1,
             "#f0f921"
            ]
           ],
           "sequentialminus": [
            [
             0,
             "#0d0887"
            ],
            [
             0.1111111111111111,
             "#46039f"
            ],
            [
             0.2222222222222222,
             "#7201a8"
            ],
            [
             0.3333333333333333,
             "#9c179e"
            ],
            [
             0.4444444444444444,
             "#bd3786"
            ],
            [
             0.5555555555555556,
             "#d8576b"
            ],
            [
             0.6666666666666666,
             "#ed7953"
            ],
            [
             0.7777777777777778,
             "#fb9f3a"
            ],
            [
             0.8888888888888888,
             "#fdca26"
            ],
            [
             1,
             "#f0f921"
            ]
           ]
          },
          "colorway": [
           "#636efa",
           "#EF553B",
           "#00cc96",
           "#ab63fa",
           "#FFA15A",
           "#19d3f3",
           "#FF6692",
           "#B6E880",
           "#FF97FF",
           "#FECB52"
          ],
          "font": {
           "color": "#2a3f5f"
          },
          "geo": {
           "bgcolor": "white",
           "lakecolor": "white",
           "landcolor": "white",
           "showlakes": true,
           "showland": true,
           "subunitcolor": "#C8D4E3"
          },
          "hoverlabel": {
           "align": "left"
          },
          "hovermode": "closest",
          "mapbox": {
           "style": "light"
          },
          "paper_bgcolor": "white",
          "plot_bgcolor": "white",
          "polar": {
           "angularaxis": {
            "gridcolor": "#EBF0F8",
            "linecolor": "#EBF0F8",
            "ticks": ""
           },
           "bgcolor": "white",
           "radialaxis": {
            "gridcolor": "#EBF0F8",
            "linecolor": "#EBF0F8",
            "ticks": ""
           }
          },
          "scene": {
           "xaxis": {
            "backgroundcolor": "white",
            "gridcolor": "#DFE8F3",
            "gridwidth": 2,
            "linecolor": "#EBF0F8",
            "showbackground": true,
            "ticks": "",
            "zerolinecolor": "#EBF0F8"
           },
           "yaxis": {
            "backgroundcolor": "white",
            "gridcolor": "#DFE8F3",
            "gridwidth": 2,
            "linecolor": "#EBF0F8",
            "showbackground": true,
            "ticks": "",
            "zerolinecolor": "#EBF0F8"
           },
           "zaxis": {
            "backgroundcolor": "white",
            "gridcolor": "#DFE8F3",
            "gridwidth": 2,
            "linecolor": "#EBF0F8",
            "showbackground": true,
            "ticks": "",
            "zerolinecolor": "#EBF0F8"
           }
          },
          "shapedefaults": {
           "line": {
            "color": "#2a3f5f"
           }
          },
          "ternary": {
           "aaxis": {
            "gridcolor": "#DFE8F3",
            "linecolor": "#A2B1C6",
            "ticks": ""
           },
           "baxis": {
            "gridcolor": "#DFE8F3",
            "linecolor": "#A2B1C6",
            "ticks": ""
           },
           "bgcolor": "white",
           "caxis": {
            "gridcolor": "#DFE8F3",
            "linecolor": "#A2B1C6",
            "ticks": ""
           }
          },
          "title": {
           "x": 0.05
          },
          "xaxis": {
           "automargin": true,
           "gridcolor": "#EBF0F8",
           "linecolor": "#EBF0F8",
           "ticks": "",
           "title": {
            "standoff": 15
           },
           "zerolinecolor": "#EBF0F8",
           "zerolinewidth": 2
          },
          "yaxis": {
           "automargin": true,
           "gridcolor": "#EBF0F8",
           "linecolor": "#EBF0F8",
           "ticks": "",
           "title": {
            "standoff": 15
           },
           "zerolinecolor": "#EBF0F8",
           "zerolinewidth": 2
          }
         }
        },
        "title": {
         "text": "Cost vs Points by Position"
        },
        "xaxis": {
         "anchor": "y",
         "domain": [
          0,
          1
         ],
         "title": {
          "text": "Cost"
         }
        },
        "yaxis": {
         "anchor": "x",
         "domain": [
          0,
          1
         ],
         "title": {
          "text": "Total Points"
         }
        }
       }
      }
     },
     "metadata": {},
     "output_type": "display_data"
    }
   ],
   "source": [
    "fig = px.scatter(all_players,\n",
    "            x='now_cost',\n",
    "            y='total_points',\n",
    "            color='element_type',\n",
    "            template='plotly_white',\n",
    "            title='Cost vs Points',\n",
    "            labels={'now_cost': 'Cost', 'total_points': 'Total Points', 'element_type': 'Position'})\n",
    "\n",
    "fig.update_layout(legend={'orientation': 'h', \n",
    "                        'yanchor': 'top', \n",
    "                        'y': 10}\n",
    "                        )\n",
    "\n",
    "fig.show()"
   ]
  },
  {
   "cell_type": "markdown",
   "metadata": {},
   "source": [
    "On the chart above every dot represents a player, the more the point is to the right the higher is the player's value, the higher the dot is the higher the number of points, and the color represents positions of the players (see the legend above the chart).\n",
    "\n",
    "It's obvious that the midfielders and forwards cost than players in other two positions. Spending above 8 almost certainly gets you at least 100 points, while there is a big difference when spending between 5.5 and 8. Picking the right players in that range could be where the users with best ranking make the difference.\n",
    "\n",
    "The distribution of dots for every position shows that in lower ranges of value for each positions, spending additional budget should get you more points, but as the player values rise, you get certainty that the player will not go below certain threshold, not necessarily more points.\n",
    "\n",
    "In order to determine where the budget can be saved in each of the position, looking at chart like the one above by position will help."
   ]
  },
  {
   "cell_type": "code",
   "execution_count": 116,
   "metadata": {},
   "outputs": [
    {
     "data": {
      "application/vnd.plotly.v1+json": {
       "config": {
        "plotlyServerURL": "https://plot.ly"
       },
       "data": [
        {
         "mode": "markers",
         "name": "Goalkeepers",
         "type": "scatter",
         "x": [
          4.5,
          4,
          5.3,
          4,
          5.2,
          3.9,
          4,
          4,
          4,
          4,
          4,
          3.9,
          4,
          4.6,
          3.9,
          4,
          4.3,
          4,
          3.9,
          4,
          4.7,
          3.9,
          4,
          4,
          3.9,
          4,
          4,
          4.4,
          3.9,
          4.3,
          4,
          3.9,
          4.4,
          4.5,
          5,
          4,
          4,
          3.9,
          4,
          4.7,
          4,
          4,
          4.4,
          4.3,
          3.9,
          3.9,
          4.4,
          4.8,
          3.9,
          3.9,
          4,
          4.8,
          3.9,
          4,
          3.8,
          5.7,
          3.6,
          4,
          4,
          4,
          4.2,
          4,
          4.5,
          4.4,
          3.8,
          5.5,
          3.6,
          3.9,
          3.9,
          5,
          4,
          3.9,
          4,
          4,
          4.3,
          3.9,
          5.3,
          3.9,
          3.7,
          3.9,
          4.3,
          3.9,
          4.5,
          4.5,
          3.9,
          4,
          4.4,
          4.5,
          3.9,
          3.8,
          4.7,
          5.3,
          3.9,
          4.2,
          4.2,
          4,
          3.9,
          3.9,
          5,
          4
         ],
         "xaxis": "x",
         "y": [
          20,
          0,
          135,
          0,
          115,
          17,
          0,
          0,
          0,
          0,
          0,
          0,
          0,
          110,
          0,
          19,
          2,
          0,
          0,
          0,
          119,
          4,
          0,
          0,
          0,
          0,
          42,
          68,
          0,
          47,
          0,
          0,
          70,
          59,
          0,
          -1,
          0,
          0,
          0,
          71,
          0,
          0,
          0,
          68,
          1,
          0,
          48,
          153,
          0,
          0,
          0,
          133,
          -1,
          0,
          0,
          107,
          34,
          0,
          0,
          0,
          1,
          0,
          86,
          0,
          0,
          112,
          22,
          0,
          0,
          133,
          0,
          0,
          0,
          0,
          75,
          0,
          57,
          1,
          41,
          0,
          0,
          0,
          12,
          34,
          0,
          0,
          70,
          15,
          0,
          0,
          0,
          112,
          0,
          116,
          24,
          0,
          18,
          0,
          107,
          0
         ],
         "yaxis": "y"
        },
        {
         "mode": "markers",
         "name": "Defenders",
         "type": "scatter",
         "x": [
          3.8,
          5.4,
          4,
          5.9,
          4.4,
          4.5,
          6.1,
          5,
          4.6,
          4,
          4,
          4.9,
          4.5,
          3.8,
          4.4,
          4.6,
          3.9,
          4.5,
          4.1,
          4.6,
          4.5,
          4,
          4,
          4.3,
          4,
          4.5,
          4.3,
          4.4,
          4.4,
          4.4,
          4.4,
          4,
          4.4,
          4,
          4.4,
          4,
          4.5,
          3.9,
          4.2,
          4.3,
          4.7,
          4.5,
          4.4,
          4.3,
          4.5,
          4,
          4,
          4,
          4,
          5.2,
          4.7,
          4,
          3.9,
          4,
          4.3,
          4.2,
          4.3,
          4,
          4,
          4,
          4,
          4,
          3.8,
          3.9,
          3.9,
          3.9,
          4,
          4.4,
          4.3,
          3.9,
          4,
          4.4,
          4,
          4,
          4,
          4,
          4,
          4.5,
          4,
          4.4,
          4.3,
          5.4,
          4.6,
          4.9,
          4.4,
          4.3,
          5.3,
          4.3,
          5,
          4.9,
          4,
          4,
          4,
          4,
          4,
          4,
          4.3,
          4.7,
          4.3,
          4.2,
          4.5,
          4,
          3.9,
          3.9,
          4.5,
          4,
          4.5,
          4.5,
          4.4,
          4.3,
          4.2,
          4.5,
          4.3,
          4.6,
          4.4,
          4,
          4.4,
          4,
          4,
          4.4,
          4.5,
          4.4,
          4.3,
          4.4,
          3.9,
          4.5,
          4.5,
          4,
          8.4,
          4.5,
          4.9,
          4.8,
          4,
          6.5,
          4.3,
          4,
          6.6,
          4,
          4,
          3.9,
          4.1,
          4.5,
          4,
          3.8,
          3.8,
          4,
          4.3,
          4.4,
          3.9,
          3.9,
          4.2,
          4.2,
          4,
          4,
          4,
          4,
          4,
          5,
          5,
          5.8,
          5.5,
          4.9,
          4.2,
          3.8,
          5.3,
          5.5,
          5.2,
          4.5,
          4,
          4,
          5.2,
          4,
          4.5,
          4.3,
          4.3,
          4.7,
          4.9,
          5.2,
          4.4,
          4,
          3.9,
          4,
          4,
          4,
          4,
          4.2,
          4,
          4.5,
          4.7,
          4.4,
          3.7,
          4,
          4,
          5.6,
          4.2,
          6.6,
          4,
          3.9,
          4,
          3.9,
          4,
          4.5,
          3.9,
          4.5,
          4.5,
          4,
          4.4,
          4.5,
          4,
          4.4,
          4.5,
          4,
          4.4,
          4.4,
          4.3,
          4.3,
          4.5,
          3.9,
          4.4,
          4.5,
          4.5,
          3.9,
          4,
          4.3,
          3.8,
          3.9,
          4.5,
          4.2,
          4.3,
          3.9,
          4.3,
          4.3,
          3.9,
          4,
          4,
          4,
          4,
          4.3,
          4.2,
          4.3,
          5.9,
          4.7,
          4,
          5.1,
          4.4,
          4.4,
          4,
          4,
          4.9,
          4.4,
          4,
          4,
          4.2,
          4.4,
          4.5,
          4.2,
          4.3,
          4.4,
          4.2,
          4.5,
          4.2,
          4.5,
          4,
          4,
          4.6,
          4,
          4.4,
          4.5,
          4,
          4.3,
          4.4,
          4.5,
          4.4,
          4.3,
          4.5,
          4,
          4,
          4
         ],
         "xaxis": "x2",
         "y": [
          3,
          149,
          67,
          164,
          0,
          70,
          182,
          104,
          0,
          0,
          0,
          49,
          64,
          6,
          55,
          85,
          0,
          91,
          0,
          85,
          24,
          3,
          1,
          0,
          5,
          48,
          16,
          102,
          80,
          84,
          59,
          0,
          28,
          0,
          68,
          0,
          84,
          0,
          13,
          17,
          39,
          77,
          75,
          29,
          74,
          0,
          0,
          0,
          0,
          89,
          57,
          0,
          31,
          61,
          49,
          26,
          37,
          0,
          0,
          5,
          4,
          0,
          19,
          30,
          0,
          15,
          0,
          69,
          12,
          47,
          0,
          60,
          0,
          7,
          25,
          15,
          0,
          0,
          0,
          35,
          39,
          24,
          65,
          44,
          0,
          74,
          11,
          0,
          98,
          71,
          0,
          20,
          0,
          0,
          1,
          0,
          0,
          121,
          52,
          66,
          119,
          0,
          62,
          3,
          54,
          0,
          56,
          124,
          30,
          37,
          18,
          101,
          34,
          117,
          76,
          0,
          43,
          0,
          0,
          40,
          104,
          27,
          66,
          66,
          0,
          105,
          5,
          0,
          122,
          76,
          56,
          21,
          0,
          76,
          48,
          0,
          117,
          49,
          0,
          0,
          50,
          1,
          0,
          15,
          35,
          40,
          101,
          41,
          0,
          42,
          11,
          23,
          34,
          0,
          0,
          4,
          0,
          112,
          99,
          0,
          88,
          1,
          52,
          9,
          53,
          123,
          123,
          0,
          0,
          0,
          111,
          0,
          62,
          73,
          0,
          15,
          44,
          31,
          47,
          49,
          5,
          0,
          0,
          0,
          0,
          38,
          0,
          51,
          97,
          33,
          46,
          0,
          0,
          123,
          2,
          111,
          0,
          5,
          45,
          2,
          11,
          27,
          0,
          58,
          0,
          0,
          7,
          0,
          0,
          12,
          29,
          0,
          0,
          52,
          39,
          13,
          45,
          0,
          28,
          58,
          11,
          28,
          1,
          31,
          21,
          8,
          63,
          1,
          13,
          2,
          33,
          10,
          0,
          7,
          0,
          0,
          1,
          34,
          2,
          27,
          136,
          6,
          0,
          107,
          0,
          0,
          0,
          0,
          79,
          81,
          0,
          0,
          14,
          36,
          85,
          10,
          82,
          17,
          2,
          76,
          19,
          40,
          1,
          0,
          77,
          0,
          29,
          69,
          0,
          1,
          82,
          63,
          82,
          41,
          13,
          0,
          0,
          0
         ],
         "yaxis": "y2"
        },
        {
         "mode": "markers",
         "name": "Midfielders",
         "type": "scatter",
         "x": [
          4.4,
          5.4,
          7.6,
          5.3,
          4.5,
          7.5,
          8.6,
          4.8,
          4.9,
          8.8,
          5.3,
          6.6,
          6,
          5.5,
          4.8,
          4.5,
          4.5,
          4.5,
          4.5,
          4.5,
          5.4,
          5.7,
          5.8,
          4.9,
          5.4,
          4.4,
          5,
          5.3,
          4.5,
          5.9,
          4.5,
          5.6,
          5,
          6.3,
          4.5,
          5.4,
          4.5,
          5,
          4.5,
          4.9,
          5.1,
          4.7,
          5,
          4.8,
          4.5,
          4.3,
          4.6,
          4.9,
          4.3,
          4.7,
          4.5,
          4.8,
          5,
          4.7,
          4.9,
          4.9,
          5.5,
          5,
          4.5,
          4.5,
          4.3,
          4.5,
          5,
          4.8,
          4.7,
          5.2,
          5.2,
          4.7,
          6.8,
          5.2,
          4.9,
          5.2,
          4.5,
          4.2,
          4.5,
          4.5,
          4.5,
          4.5,
          4.5,
          5,
          4.4,
          4.5,
          4.7,
          4.8,
          5,
          4.8,
          6.1,
          4.5,
          4.9,
          6.1,
          4.8,
          6.4,
          4.4,
          4.5,
          4.5,
          4.5,
          6.4,
          4.5,
          4.4,
          4.5,
          4.5,
          4.5,
          4.2,
          4.9,
          5.2,
          4.7,
          4.4,
          4.8,
          4.5,
          5,
          4.8,
          4.9,
          4.6,
          4.6,
          4.7,
          4.8,
          4.8,
          5,
          5,
          4.9,
          5.2,
          4.5,
          4.2,
          4.2,
          4.8,
          5.4,
          5.3,
          6.3,
          5.5,
          6.8,
          5.4,
          6.3,
          5,
          5.1,
          4.4,
          4.9,
          4.5,
          4.5,
          4.5,
          4.5,
          4.5,
          4.5,
          4.5,
          4.3,
          5.3,
          4.8,
          4.4,
          6,
          4.9,
          4.7,
          5.7,
          4.3,
          4.8,
          4.8,
          4.5,
          4.5,
          4.5,
          5,
          4.5,
          4.4,
          4.4,
          4.8,
          5.5,
          4.9,
          4.4,
          5.3,
          4.8,
          5.4,
          4.7,
          5.2,
          4.5,
          4.4,
          5.5,
          4.5,
          4.5,
          4.5,
          5.3,
          5.3,
          4.9,
          5,
          5.2,
          4.4,
          4.4,
          4.3,
          5,
          4.3,
          5.3,
          5.3,
          4.5,
          4.9,
          4.5,
          4.4,
          4.5,
          4.7,
          7.9,
          4.8,
          5,
          5,
          4.9,
          7.6,
          5.9,
          13.4,
          7.1,
          4.7,
          4.4,
          4.3,
          4.4,
          5.4,
          5,
          4.5,
          4.5,
          4.9,
          4.3,
          4.6,
          4.9,
          4.8,
          4.9,
          4.5,
          5,
          4.4,
          4.4,
          4.5,
          4.4,
          4.6,
          4.4,
          4.5,
          5,
          4.5,
          4.5,
          4.5,
          4.5,
          6.2,
          4.4,
          4.5,
          10.6,
          8.5,
          7.2,
          4.6,
          7.5,
          4.4,
          5.6,
          4.7,
          6.4,
          4.5,
          4.5,
          4.5,
          6.8,
          4.4,
          6.8,
          8.5,
          5.3,
          5.8,
          5,
          5,
          4.3,
          4.4,
          4.5,
          4.2,
          8.4,
          6.7,
          4.7,
          4.4,
          4.5,
          5,
          4.5,
          6,
          4.2,
          5.8,
          4.9,
          6.4,
          4.4,
          4.4,
          5.8,
          4.5,
          4.8,
          4.8,
          4.3,
          6,
          5.2,
          5.3,
          6.2,
          4.5,
          4.5,
          4.5,
          4.5,
          4.7,
          4.9,
          4.5,
          4.3,
          4.5,
          5.3,
          4.9,
          5.7,
          4.8,
          5,
          4.4,
          4.9,
          4.5,
          4.5,
          4.8,
          4.8,
          5,
          4.9,
          4.5,
          4.6,
          4.4,
          4.4,
          4.9,
          4.8,
          4.8,
          4.7,
          5,
          4.4,
          4.9,
          5,
          4.4,
          4.4,
          5,
          4.5,
          4.5,
          5.8,
          5.4,
          5,
          4.9,
          5.1,
          6.7,
          4.8,
          7.8,
          4.4,
          6.8,
          4.4,
          4.5,
          10,
          5.1,
          4.5,
          4.5,
          4.5,
          4.7,
          5.6,
          7.6,
          5.2,
          4.3,
          5,
          4.6,
          6,
          4.9,
          4.5,
          5,
          5.7,
          6.7,
          4.5,
          4.5,
          4.4,
          4.5,
          4.5,
          5.4,
          4.4,
          5.4,
          4.9,
          4.3,
          4.9,
          5.5,
          5.3,
          4.5,
          4.3,
          5,
          4.9,
          4.5,
          4.4,
          4.5,
          4.5,
          4.5,
          5,
          4.5
         ],
         "xaxis": "x3",
         "y": [
          6,
          24,
          180,
          44,
          0,
          118,
          186,
          24,
          0,
          226,
          25,
          138,
          0,
          165,
          16,
          0,
          0,
          0,
          1,
          0,
          148,
          0,
          2,
          20,
          148,
          10,
          40,
          119,
          1,
          29,
          0,
          77,
          2,
          142,
          2,
          34,
          0,
          35,
          0,
          3,
          60,
          23,
          90,
          77,
          0,
          0,
          100,
          0,
          0,
          56,
          0,
          13,
          89,
          3,
          41,
          5,
          43,
          4,
          1,
          0,
          19,
          0,
          0,
          45,
          3,
          93,
          98,
          73,
          127,
          74,
          39,
          33,
          0,
          33,
          8,
          0,
          26,
          3,
          0,
          97,
          0,
          0,
          57,
          14,
          20,
          61,
          153,
          0,
          30,
          39,
          28,
          74,
          21,
          0,
          42,
          34,
          33,
          4,
          0,
          0,
          0,
          0,
          0,
          0,
          8,
          78,
          0,
          4,
          0,
          65,
          48,
          0,
          4,
          74,
          11,
          40,
          82,
          82,
          18,
          3,
          20,
          84,
          1,
          16,
          77,
          129,
          76,
          94,
          0,
          123,
          0,
          244,
          0,
          11,
          13,
          1,
          0,
          1,
          0,
          11,
          0,
          1,
          0,
          16,
          109,
          21,
          0,
          136,
          61,
          64,
          125,
          12,
          66,
          16,
          8,
          8,
          0,
          50,
          0,
          0,
          20,
          0,
          116,
          87,
          0,
          0,
          73,
          124,
          66,
          26,
          18,
          1,
          92,
          0,
          0,
          1,
          102,
          127,
          70,
          0,
          92,
          0,
          0,
          43,
          91,
          47,
          94,
          94,
          0,
          36,
          2,
          0,
          0,
          1,
          110,
          96,
          0,
          0,
          40,
          142,
          109,
          211,
          99,
          1,
          5,
          1,
          3,
          47,
          45,
          0,
          1,
          47,
          21,
          31,
          0,
          44,
          0,
          0,
          11,
          0,
          0,
          0,
          0,
          35,
          78,
          101,
          61,
          0,
          2,
          0,
          0,
          141,
          30,
          0,
          98,
          230,
          50,
          59,
          0,
          0,
          159,
          32,
          98,
          0,
          0,
          0,
          23,
          23,
          47,
          166,
          58,
          48,
          0,
          131,
          11,
          77,
          98,
          13,
          108,
          3,
          1,
          7,
          1,
          26,
          0,
          77,
          42,
          153,
          0,
          183,
          0,
          0,
          45,
          0,
          110,
          82,
          17,
          0,
          16,
          18,
          64,
          44,
          1,
          3,
          0,
          109,
          119,
          1,
          0,
          0,
          65,
          0,
          142,
          12,
          40,
          0,
          0,
          0,
          0,
          0,
          59,
          67,
          25,
          0,
          13,
          77,
          0,
          3,
          42,
          38,
          14,
          73,
          26,
          108,
          7,
          1,
          1,
          62,
          19,
          0,
          131,
          32,
          44,
          12,
          39,
          130,
          47,
          117,
          0,
          122,
          86,
          22,
          213,
          14,
          0,
          2,
          0,
          10,
          20,
          182,
          13,
          0,
          0,
          19,
          100,
          116,
          0,
          62,
          146,
          137,
          0,
          8,
          38,
          0,
          0,
          0,
          0,
          125,
          75,
          0,
          95,
          86,
          0,
          99,
          25,
          1,
          45,
          0,
          8,
          0,
          0,
          0,
          0,
          0
         ],
         "yaxis": "y3"
        },
        {
         "mode": "markers",
         "name": "Forwards",
         "type": "scatter",
         "x": [
          4.4,
          7.7,
          5,
          4.9,
          5,
          8.9,
          5,
          4.6,
          4.5,
          6.9,
          5,
          4.5,
          7.7,
          5.7,
          4.9,
          4.5,
          5.7,
          5.2,
          5.5,
          5.7,
          4.4,
          4.5,
          4.7,
          4.9,
          5.3,
          5.5,
          5,
          5.1,
          6.5,
          6.8,
          7,
          7.2,
          4.5,
          4.5,
          4.5,
          4.5,
          5.3,
          5.1,
          4.5,
          4.5,
          4.5,
          4.5,
          5.8,
          4.5,
          4.8,
          4.5,
          5.7,
          4.9,
          7.4,
          4.3,
          4.5,
          5,
          4.5,
          7.5,
          7.1,
          4.5,
          4.3,
          4.8,
          4.5,
          4.7,
          4.5,
          4.8,
          4.5,
          4.5,
          4.3,
          4.9,
          4.5,
          6.4,
          14.3,
          6.4,
          4.4,
          7.1,
          4.5,
          4.5,
          8.4,
          7.8,
          4.5,
          4.4,
          6.3,
          4.8,
          4.5,
          4.4,
          4.7,
          5,
          4.5,
          4.5,
          4.5,
          4.2,
          4.9,
          4.8,
          5.4,
          5.5,
          4.2,
          5.1,
          4.5,
          4.4,
          4.5,
          12.5,
          4.5,
          5.4,
          4.5,
          6.3,
          5.7,
          5.5,
          4.1,
          6,
          4.5,
          5.2,
          4.9,
          5.5,
          4.5,
          4.5,
          4.5
         ],
         "xaxis": "x4",
         "y": [
          0,
          85,
          71,
          0,
          50,
          228,
          0,
          14,
          107,
          175,
          40,
          0,
          57,
          131,
          76,
          0,
          69,
          104,
          0,
          79,
          0,
          2,
          75,
          2,
          41,
          0,
          50,
          85,
          0,
          0,
          142,
          29,
          2,
          2,
          0,
          0,
          79,
          165,
          0,
          0,
          0,
          0,
          101,
          0,
          16,
          1,
          50,
          35,
          1,
          97,
          22,
          72,
          0,
          132,
          106,
          0,
          1,
          94,
          0,
          146,
          0,
          84,
          0,
          0,
          33,
          39,
          0,
          158,
          217,
          25,
          0,
          112,
          0,
          3,
          172,
          69,
          1,
          1,
          67,
          0,
          0,
          0,
          131,
          25,
          0,
          0,
          4,
          82,
          11,
          1,
          66,
          0,
          25,
          11,
          0,
          2,
          0,
          0,
          4,
          11,
          2,
          46,
          78,
          36,
          5,
          0,
          0,
          8,
          24,
          135,
          7,
          5,
          0
         ],
         "yaxis": "y4"
        }
       ],
       "layout": {
        "annotations": [
         {
          "font": {
           "size": 16
          },
          "showarrow": false,
          "text": "Goalkeepers",
          "x": 0.225,
          "xanchor": "center",
          "xref": "paper",
          "y": 1,
          "yanchor": "bottom",
          "yref": "paper"
         },
         {
          "font": {
           "size": 16
          },
          "showarrow": false,
          "text": "Defenders",
          "x": 0.775,
          "xanchor": "center",
          "xref": "paper",
          "y": 1,
          "yanchor": "bottom",
          "yref": "paper"
         },
         {
          "font": {
           "size": 16
          },
          "showarrow": false,
          "text": "Midfielders",
          "x": 0.225,
          "xanchor": "center",
          "xref": "paper",
          "y": 0.375,
          "yanchor": "bottom",
          "yref": "paper"
         },
         {
          "font": {
           "size": 16
          },
          "showarrow": false,
          "text": "Forwards",
          "x": 0.775,
          "xanchor": "center",
          "xref": "paper",
          "y": 0.375,
          "yanchor": "bottom",
          "yref": "paper"
         }
        ],
        "height": 700,
        "showlegend": false,
        "template": {
         "data": {
          "bar": [
           {
            "error_x": {
             "color": "#2a3f5f"
            },
            "error_y": {
             "color": "#2a3f5f"
            },
            "marker": {
             "line": {
              "color": "white",
              "width": 0.5
             },
             "pattern": {
              "fillmode": "overlay",
              "size": 10,
              "solidity": 0.2
             }
            },
            "type": "bar"
           }
          ],
          "barpolar": [
           {
            "marker": {
             "line": {
              "color": "white",
              "width": 0.5
             },
             "pattern": {
              "fillmode": "overlay",
              "size": 10,
              "solidity": 0.2
             }
            },
            "type": "barpolar"
           }
          ],
          "carpet": [
           {
            "aaxis": {
             "endlinecolor": "#2a3f5f",
             "gridcolor": "#C8D4E3",
             "linecolor": "#C8D4E3",
             "minorgridcolor": "#C8D4E3",
             "startlinecolor": "#2a3f5f"
            },
            "baxis": {
             "endlinecolor": "#2a3f5f",
             "gridcolor": "#C8D4E3",
             "linecolor": "#C8D4E3",
             "minorgridcolor": "#C8D4E3",
             "startlinecolor": "#2a3f5f"
            },
            "type": "carpet"
           }
          ],
          "choropleth": [
           {
            "colorbar": {
             "outlinewidth": 0,
             "ticks": ""
            },
            "type": "choropleth"
           }
          ],
          "contour": [
           {
            "colorbar": {
             "outlinewidth": 0,
             "ticks": ""
            },
            "colorscale": [
             [
              0,
              "#0d0887"
             ],
             [
              0.1111111111111111,
              "#46039f"
             ],
             [
              0.2222222222222222,
              "#7201a8"
             ],
             [
              0.3333333333333333,
              "#9c179e"
             ],
             [
              0.4444444444444444,
              "#bd3786"
             ],
             [
              0.5555555555555556,
              "#d8576b"
             ],
             [
              0.6666666666666666,
              "#ed7953"
             ],
             [
              0.7777777777777778,
              "#fb9f3a"
             ],
             [
              0.8888888888888888,
              "#fdca26"
             ],
             [
              1,
              "#f0f921"
             ]
            ],
            "type": "contour"
           }
          ],
          "contourcarpet": [
           {
            "colorbar": {
             "outlinewidth": 0,
             "ticks": ""
            },
            "type": "contourcarpet"
           }
          ],
          "heatmap": [
           {
            "colorbar": {
             "outlinewidth": 0,
             "ticks": ""
            },
            "colorscale": [
             [
              0,
              "#0d0887"
             ],
             [
              0.1111111111111111,
              "#46039f"
             ],
             [
              0.2222222222222222,
              "#7201a8"
             ],
             [
              0.3333333333333333,
              "#9c179e"
             ],
             [
              0.4444444444444444,
              "#bd3786"
             ],
             [
              0.5555555555555556,
              "#d8576b"
             ],
             [
              0.6666666666666666,
              "#ed7953"
             ],
             [
              0.7777777777777778,
              "#fb9f3a"
             ],
             [
              0.8888888888888888,
              "#fdca26"
             ],
             [
              1,
              "#f0f921"
             ]
            ],
            "type": "heatmap"
           }
          ],
          "heatmapgl": [
           {
            "colorbar": {
             "outlinewidth": 0,
             "ticks": ""
            },
            "colorscale": [
             [
              0,
              "#0d0887"
             ],
             [
              0.1111111111111111,
              "#46039f"
             ],
             [
              0.2222222222222222,
              "#7201a8"
             ],
             [
              0.3333333333333333,
              "#9c179e"
             ],
             [
              0.4444444444444444,
              "#bd3786"
             ],
             [
              0.5555555555555556,
              "#d8576b"
             ],
             [
              0.6666666666666666,
              "#ed7953"
             ],
             [
              0.7777777777777778,
              "#fb9f3a"
             ],
             [
              0.8888888888888888,
              "#fdca26"
             ],
             [
              1,
              "#f0f921"
             ]
            ],
            "type": "heatmapgl"
           }
          ],
          "histogram": [
           {
            "marker": {
             "pattern": {
              "fillmode": "overlay",
              "size": 10,
              "solidity": 0.2
             }
            },
            "type": "histogram"
           }
          ],
          "histogram2d": [
           {
            "colorbar": {
             "outlinewidth": 0,
             "ticks": ""
            },
            "colorscale": [
             [
              0,
              "#0d0887"
             ],
             [
              0.1111111111111111,
              "#46039f"
             ],
             [
              0.2222222222222222,
              "#7201a8"
             ],
             [
              0.3333333333333333,
              "#9c179e"
             ],
             [
              0.4444444444444444,
              "#bd3786"
             ],
             [
              0.5555555555555556,
              "#d8576b"
             ],
             [
              0.6666666666666666,
              "#ed7953"
             ],
             [
              0.7777777777777778,
              "#fb9f3a"
             ],
             [
              0.8888888888888888,
              "#fdca26"
             ],
             [
              1,
              "#f0f921"
             ]
            ],
            "type": "histogram2d"
           }
          ],
          "histogram2dcontour": [
           {
            "colorbar": {
             "outlinewidth": 0,
             "ticks": ""
            },
            "colorscale": [
             [
              0,
              "#0d0887"
             ],
             [
              0.1111111111111111,
              "#46039f"
             ],
             [
              0.2222222222222222,
              "#7201a8"
             ],
             [
              0.3333333333333333,
              "#9c179e"
             ],
             [
              0.4444444444444444,
              "#bd3786"
             ],
             [
              0.5555555555555556,
              "#d8576b"
             ],
             [
              0.6666666666666666,
              "#ed7953"
             ],
             [
              0.7777777777777778,
              "#fb9f3a"
             ],
             [
              0.8888888888888888,
              "#fdca26"
             ],
             [
              1,
              "#f0f921"
             ]
            ],
            "type": "histogram2dcontour"
           }
          ],
          "mesh3d": [
           {
            "colorbar": {
             "outlinewidth": 0,
             "ticks": ""
            },
            "type": "mesh3d"
           }
          ],
          "parcoords": [
           {
            "line": {
             "colorbar": {
              "outlinewidth": 0,
              "ticks": ""
             }
            },
            "type": "parcoords"
           }
          ],
          "pie": [
           {
            "automargin": true,
            "type": "pie"
           }
          ],
          "scatter": [
           {
            "fillpattern": {
             "fillmode": "overlay",
             "size": 10,
             "solidity": 0.2
            },
            "type": "scatter"
           }
          ],
          "scatter3d": [
           {
            "line": {
             "colorbar": {
              "outlinewidth": 0,
              "ticks": ""
             }
            },
            "marker": {
             "colorbar": {
              "outlinewidth": 0,
              "ticks": ""
             }
            },
            "type": "scatter3d"
           }
          ],
          "scattercarpet": [
           {
            "marker": {
             "colorbar": {
              "outlinewidth": 0,
              "ticks": ""
             }
            },
            "type": "scattercarpet"
           }
          ],
          "scattergeo": [
           {
            "marker": {
             "colorbar": {
              "outlinewidth": 0,
              "ticks": ""
             }
            },
            "type": "scattergeo"
           }
          ],
          "scattergl": [
           {
            "marker": {
             "colorbar": {
              "outlinewidth": 0,
              "ticks": ""
             }
            },
            "type": "scattergl"
           }
          ],
          "scattermapbox": [
           {
            "marker": {
             "colorbar": {
              "outlinewidth": 0,
              "ticks": ""
             }
            },
            "type": "scattermapbox"
           }
          ],
          "scatterpolar": [
           {
            "marker": {
             "colorbar": {
              "outlinewidth": 0,
              "ticks": ""
             }
            },
            "type": "scatterpolar"
           }
          ],
          "scatterpolargl": [
           {
            "marker": {
             "colorbar": {
              "outlinewidth": 0,
              "ticks": ""
             }
            },
            "type": "scatterpolargl"
           }
          ],
          "scatterternary": [
           {
            "marker": {
             "colorbar": {
              "outlinewidth": 0,
              "ticks": ""
             }
            },
            "type": "scatterternary"
           }
          ],
          "surface": [
           {
            "colorbar": {
             "outlinewidth": 0,
             "ticks": ""
            },
            "colorscale": [
             [
              0,
              "#0d0887"
             ],
             [
              0.1111111111111111,
              "#46039f"
             ],
             [
              0.2222222222222222,
              "#7201a8"
             ],
             [
              0.3333333333333333,
              "#9c179e"
             ],
             [
              0.4444444444444444,
              "#bd3786"
             ],
             [
              0.5555555555555556,
              "#d8576b"
             ],
             [
              0.6666666666666666,
              "#ed7953"
             ],
             [
              0.7777777777777778,
              "#fb9f3a"
             ],
             [
              0.8888888888888888,
              "#fdca26"
             ],
             [
              1,
              "#f0f921"
             ]
            ],
            "type": "surface"
           }
          ],
          "table": [
           {
            "cells": {
             "fill": {
              "color": "#EBF0F8"
             },
             "line": {
              "color": "white"
             }
            },
            "header": {
             "fill": {
              "color": "#C8D4E3"
             },
             "line": {
              "color": "white"
             }
            },
            "type": "table"
           }
          ]
         },
         "layout": {
          "annotationdefaults": {
           "arrowcolor": "#2a3f5f",
           "arrowhead": 0,
           "arrowwidth": 1
          },
          "autotypenumbers": "strict",
          "coloraxis": {
           "colorbar": {
            "outlinewidth": 0,
            "ticks": ""
           }
          },
          "colorscale": {
           "diverging": [
            [
             0,
             "#8e0152"
            ],
            [
             0.1,
             "#c51b7d"
            ],
            [
             0.2,
             "#de77ae"
            ],
            [
             0.3,
             "#f1b6da"
            ],
            [
             0.4,
             "#fde0ef"
            ],
            [
             0.5,
             "#f7f7f7"
            ],
            [
             0.6,
             "#e6f5d0"
            ],
            [
             0.7,
             "#b8e186"
            ],
            [
             0.8,
             "#7fbc41"
            ],
            [
             0.9,
             "#4d9221"
            ],
            [
             1,
             "#276419"
            ]
           ],
           "sequential": [
            [
             0,
             "#0d0887"
            ],
            [
             0.1111111111111111,
             "#46039f"
            ],
            [
             0.2222222222222222,
             "#7201a8"
            ],
            [
             0.3333333333333333,
             "#9c179e"
            ],
            [
             0.4444444444444444,
             "#bd3786"
            ],
            [
             0.5555555555555556,
             "#d8576b"
            ],
            [
             0.6666666666666666,
             "#ed7953"
            ],
            [
             0.7777777777777778,
             "#fb9f3a"
            ],
            [
             0.8888888888888888,
             "#fdca26"
            ],
            [
             1,
             "#f0f921"
            ]
           ],
           "sequentialminus": [
            [
             0,
             "#0d0887"
            ],
            [
             0.1111111111111111,
             "#46039f"
            ],
            [
             0.2222222222222222,
             "#7201a8"
            ],
            [
             0.3333333333333333,
             "#9c179e"
            ],
            [
             0.4444444444444444,
             "#bd3786"
            ],
            [
             0.5555555555555556,
             "#d8576b"
            ],
            [
             0.6666666666666666,
             "#ed7953"
            ],
            [
             0.7777777777777778,
             "#fb9f3a"
            ],
            [
             0.8888888888888888,
             "#fdca26"
            ],
            [
             1,
             "#f0f921"
            ]
           ]
          },
          "colorway": [
           "#636efa",
           "#EF553B",
           "#00cc96",
           "#ab63fa",
           "#FFA15A",
           "#19d3f3",
           "#FF6692",
           "#B6E880",
           "#FF97FF",
           "#FECB52"
          ],
          "font": {
           "color": "#2a3f5f"
          },
          "geo": {
           "bgcolor": "white",
           "lakecolor": "white",
           "landcolor": "white",
           "showlakes": true,
           "showland": true,
           "subunitcolor": "#C8D4E3"
          },
          "hoverlabel": {
           "align": "left"
          },
          "hovermode": "closest",
          "mapbox": {
           "style": "light"
          },
          "paper_bgcolor": "white",
          "plot_bgcolor": "white",
          "polar": {
           "angularaxis": {
            "gridcolor": "#EBF0F8",
            "linecolor": "#EBF0F8",
            "ticks": ""
           },
           "bgcolor": "white",
           "radialaxis": {
            "gridcolor": "#EBF0F8",
            "linecolor": "#EBF0F8",
            "ticks": ""
           }
          },
          "scene": {
           "xaxis": {
            "backgroundcolor": "white",
            "gridcolor": "#DFE8F3",
            "gridwidth": 2,
            "linecolor": "#EBF0F8",
            "showbackground": true,
            "ticks": "",
            "zerolinecolor": "#EBF0F8"
           },
           "yaxis": {
            "backgroundcolor": "white",
            "gridcolor": "#DFE8F3",
            "gridwidth": 2,
            "linecolor": "#EBF0F8",
            "showbackground": true,
            "ticks": "",
            "zerolinecolor": "#EBF0F8"
           },
           "zaxis": {
            "backgroundcolor": "white",
            "gridcolor": "#DFE8F3",
            "gridwidth": 2,
            "linecolor": "#EBF0F8",
            "showbackground": true,
            "ticks": "",
            "zerolinecolor": "#EBF0F8"
           }
          },
          "shapedefaults": {
           "line": {
            "color": "#2a3f5f"
           }
          },
          "ternary": {
           "aaxis": {
            "gridcolor": "#DFE8F3",
            "linecolor": "#A2B1C6",
            "ticks": ""
           },
           "baxis": {
            "gridcolor": "#DFE8F3",
            "linecolor": "#A2B1C6",
            "ticks": ""
           },
           "bgcolor": "white",
           "caxis": {
            "gridcolor": "#DFE8F3",
            "linecolor": "#A2B1C6",
            "ticks": ""
           }
          },
          "title": {
           "x": 0.05
          },
          "xaxis": {
           "automargin": true,
           "gridcolor": "#EBF0F8",
           "linecolor": "#EBF0F8",
           "ticks": "",
           "title": {
            "standoff": 15
           },
           "zerolinecolor": "#EBF0F8",
           "zerolinewidth": 2
          },
          "yaxis": {
           "automargin": true,
           "gridcolor": "#EBF0F8",
           "linecolor": "#EBF0F8",
           "ticks": "",
           "title": {
            "standoff": 15
           },
           "zerolinecolor": "#EBF0F8",
           "zerolinewidth": 2
          }
         }
        },
        "title": {
         "text": "Cost vs Points by Position"
        },
        "xaxis": {
         "anchor": "y",
         "domain": [
          0,
          0.45
         ]
        },
        "xaxis2": {
         "anchor": "y2",
         "domain": [
          0.55,
          1
         ]
        },
        "xaxis3": {
         "anchor": "y3",
         "domain": [
          0,
          0.45
         ]
        },
        "xaxis4": {
         "anchor": "y4",
         "domain": [
          0.55,
          1
         ]
        },
        "yaxis": {
         "anchor": "x",
         "domain": [
          0.625,
          1
         ]
        },
        "yaxis2": {
         "anchor": "x2",
         "domain": [
          0.625,
          1
         ]
        },
        "yaxis3": {
         "anchor": "x3",
         "domain": [
          0,
          0.375
         ]
        },
        "yaxis4": {
         "anchor": "x4",
         "domain": [
          0,
          0.375
         ]
        }
       }
      }
     },
     "metadata": {},
     "output_type": "display_data"
    }
   ],
   "source": [
    "fig = make_subplots(rows=2, cols=2,\n",
    "                    subplot_titles=(\"Goalkeepers\", \"Defenders\", \"Midfielders\", \"Forwards\"))\n",
    "\n",
    "trace1 = go.Scatter(x=goalkeepers['now_cost'], \n",
    "                    y=goalkeepers['total_points'], \n",
    "                    mode='markers',\n",
    "                    name='Goalkeepers')\n",
    "fig.add_trace(trace1, row=1, col=1)\n",
    "\n",
    "trace2 = go.Scatter(x=defenders['now_cost'], \n",
    "                    y=defenders['total_points'], \n",
    "                    mode='markers',\n",
    "                    name='Defenders')\n",
    "fig.add_trace(trace2, row=1, col=2)\n",
    "\n",
    "trace3 = go.Scatter(x=midfielders['now_cost'], \n",
    "                    y=midfielders['total_points'], \n",
    "                    mode='markers',\n",
    "                    name='Midfielders')\n",
    "fig.add_trace(trace3, row=2, col=1)\n",
    "\n",
    "trace4 = go.Scatter(x=forwards['now_cost'], \n",
    "                    y=forwards['total_points'], \n",
    "                    mode='markers',\n",
    "                    name='Forwards')\n",
    "fig.add_trace(trace4, row=2, col=2)\n",
    "\n",
    "fig.update_layout(\n",
    "    title_text=\"Cost vs Points by Position\",\n",
    "    showlegend=False,\n",
    "    template='plotly_white',\n",
    "    height=700\n",
    ")"
   ]
  },
  {
   "cell_type": "markdown",
   "metadata": {},
   "source": [
    "<b>Goalkeepers</b><br>\n",
    "With goalkeepers, drawing the line at value of 4.5 would clearly separate better and worse performing players. Although, spending more than 5 doesn't bring additional benefits.<br>\n",
    "Going for just above mid range goalkeepers should pay off\n",
    "\n",
    "<b>Defenders</b><br>\n",
    "Spending less than 4.5 will hardly bring higher number of points. Value can be found when spending between 4.5 and 5.5, but choices need to be made carefully. Spending between 5.5 and 6 brings same number of points than spending more than 6.<br>\n",
    "No need to spend above 6. Finding right players in 4.5 to 5.5 range could make the most difference, and getting some of the best ranked defenders can be done with less than 6.\n",
    "\n",
    "<b>Midfielders</b><br>\n",
    "Spending on premium midfielders (above 7.5, or 8 especially) pays off as they bring more certainty for high number of points. There is not much more risk with players worth between 5.5 and 6 than those from 6 to 7.<br>\n",
    "Spending the money on top costing midfielders pays off.\n",
    "\n",
    "<b>Forwards</b><br>\n",
    "The most valuable of forwards bring certainty for very large number of points. But there's also a lot of value to be found in 5-6 range.<br>\n",
    "Combining some of the top value forwards with those in 5-6 range could get forward line where all players are among top scoring overall."
   ]
  },
  {
   "cell_type": "markdown",
   "metadata": {},
   "source": [
    "### 4. Final Summary"
   ]
  },
  {
   "cell_type": "markdown",
   "metadata": {},
   "source": [
    "The general guidlines for building an FPL team, supported by the above analysis are:\n",
    "\n",
    "<b>Goalkeepers</b><br>\n",
    "1. Medium priced goalkeepers with high number of clean sheets are the best value\n",
    "2. Clean sheets can come from not conceding a lot of shots, or combination of shot stopping ability and conceding low quality shots\n",
    "\n",
    "<b>Defenders</b><br>\n",
    "1. There is a big potential to save money for other positions by going for defenders on teams that don't conced goals\n",
    "2. Goals and especially assists are secondary\n",
    "\n",
    "<b>Midfielders</b><br>\n",
    "1. Spending large portion of the budget on midfielders who score a lot of goals pays off\n",
    "\n",
    "<b>Forwards</b><br>\n",
    "1. Finding low costing forwards who are in form could save money without losing out on points\n",
    "2. Using the left over money to take some of the very top costing forwards as they guarntee high number of points"
   ]
  }
 ],
 "metadata": {
  "kernelspec": {
   "display_name": "base",
   "language": "python",
   "name": "python3"
  },
  "language_info": {
   "codemirror_mode": {
    "name": "ipython",
    "version": 3
   },
   "file_extension": ".py",
   "mimetype": "text/x-python",
   "name": "python",
   "nbconvert_exporter": "python",
   "pygments_lexer": "ipython3",
   "version": "3.12.4"
  }
 },
 "nbformat": 4,
 "nbformat_minor": 2
}
